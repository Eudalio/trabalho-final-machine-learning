{
 "cells": [
  {
   "cell_type": "code",
   "execution_count": 8,
   "metadata": {},
   "outputs": [],
   "source": [
    "#!pip install ray"
   ]
  },
  {
   "cell_type": "code",
   "execution_count": 1,
   "metadata": {},
   "outputs": [
    {
     "name": "stdout",
     "output_type": "stream",
     "text": [
      "Process STDOUT and STDERR is being redirected to /tmp/raylogs/.\n",
      "Waiting for redis server at 127.0.0.1:10520 to respond...\n",
      "Waiting for redis server at 127.0.0.1:22514 to respond...\n",
      "Starting local scheduler with the following resources: {'CPU': 4, 'GPU': 0}.\n",
      "\n",
      "======================================================================\n",
      "View the web UI at http://localhost:8889/notebooks/ray_ui43144.ipynb?token=0da965d68fb8858dd3058e3acd33c93282917bc48ca8533f\n",
      "======================================================================\n",
      "\n"
     ]
    }
   ],
   "source": [
    "import ray.dataframe as pd\n",
    "import numpy as np"
   ]
  },
  {
   "cell_type": "code",
   "execution_count": 2,
   "metadata": {},
   "outputs": [],
   "source": [
    "df = pd.read_csv('corrected.csv', header=None)\n",
    "df2 = pd.read_csv('kddcup.data_corrected.csv', header=None)"
   ]
  },
  {
   "cell_type": "code",
   "execution_count": 3,
   "metadata": {},
   "outputs": [
    {
     "data": {
      "text/plain": [
       "   0  tcp  http  SF  215  45076  0.1  0.2  0.3  0.4   ...     0.17  0.00.6  \\\n",
       "0  0  tcp  http  SF  215  45076    0    0    0    0   ...        0     0.0   \n",
       "1  0  tcp  http  SF  162   4528    0    0    0    0   ...        1     1.0   \n",
       "2  0  tcp  http  SF  236   1228    0    0    0    0   ...        2     1.0   \n",
       "3  0  tcp  http  SF  233   2032    0    0    0    0   ...        3     1.0   \n",
       "4  0  tcp  http  SF  239    486    0    0    0    0   ...        4     1.0   \n",
       "\n",
       "   0.00.7  0.00.8  0.00.9  0.00.10  0.00.11  0.00.12  0.00.13  normal.  \n",
       "0     0.0    0.00     0.0      0.0      0.0      0.0      0.0  normal.  \n",
       "1     0.0    1.00     0.0      0.0      0.0      0.0      0.0  normal.  \n",
       "2     0.0    0.50     0.0      0.0      0.0      0.0      0.0  normal.  \n",
       "3     0.0    0.33     0.0      0.0      0.0      0.0      0.0  normal.  \n",
       "4     0.0    0.25     0.0      0.0      0.0      0.0      0.0  normal.  \n",
       "\n",
       "[5 rows x 42 columns]"
      ]
     },
     "execution_count": 3,
     "metadata": {},
     "output_type": "execute_result"
    }
   ],
   "source": [
    "df2.head()"
   ]
  },
  {
   "cell_type": "code",
   "execution_count": 4,
   "metadata": {},
   "outputs": [
    {
     "data": {
      "text/plain": [
       "0       int64\n",
       "1      object\n",
       "2      object\n",
       "3      object\n",
       "4       int64\n",
       "5       int64\n",
       "6       int64\n",
       "7       int64\n",
       "8       int64\n",
       "9       int64\n",
       "10      int64\n",
       "11      int64\n",
       "12      int64\n",
       "13      int64\n",
       "14      int64\n",
       "15      int64\n",
       "16      int64\n",
       "17      int64\n",
       "18      int64\n",
       "19      int64\n",
       "20      int64\n",
       "21      int64\n",
       "22      int64\n",
       "23      int64\n",
       "24    float64\n",
       "25    float64\n",
       "26    float64\n",
       "27    float64\n",
       "28    float64\n",
       "29    float64\n",
       "30    float64\n",
       "31      int64\n",
       "32      int64\n",
       "33    float64\n",
       "34    float64\n",
       "35    float64\n",
       "36    float64\n",
       "37    float64\n",
       "38    float64\n",
       "39    float64\n",
       "40    float64\n",
       "41     object\n",
       "dtype: object"
      ]
     },
     "execution_count": 4,
     "metadata": {},
     "output_type": "execute_result"
    }
   ],
   "source": [
    "df2.dtypes"
   ]
  },
  {
   "cell_type": "code",
   "execution_count": 40,
   "metadata": {},
   "outputs": [
    {
     "data": {
      "text/plain": [
       "array([    0,     1,     2, ..., 42888, 42908, 58329])"
      ]
     },
     "execution_count": 40,
     "metadata": {},
     "output_type": "execute_result"
    }
   ],
   "source": [
    "np.unique(df2[0])"
   ]
  },
  {
   "cell_type": "code",
   "execution_count": 38,
   "metadata": {},
   "outputs": [
    {
     "data": {
      "text/plain": [
       "(311032, 42)"
      ]
     },
     "execution_count": 38,
     "metadata": {},
     "output_type": "execute_result"
    }
   ],
   "source": [
    "np.unique(df[41]).shape\n",
    "df.shape"
   ]
  },
  {
   "cell_type": "code",
   "execution_count": null,
   "metadata": {},
   "outputs": [],
   "source": []
  }
 ],
 "metadata": {
  "kernelspec": {
   "display_name": "Python 3",
   "language": "python",
   "name": "python3"
  },
  "language_info": {
   "codemirror_mode": {
    "name": "ipython",
    "version": 3
   },
   "file_extension": ".py",
   "mimetype": "text/x-python",
   "name": "python",
   "nbconvert_exporter": "python",
   "pygments_lexer": "ipython3",
   "version": "3.6.4"
  }
 },
 "nbformat": 4,
 "nbformat_minor": 2
}
