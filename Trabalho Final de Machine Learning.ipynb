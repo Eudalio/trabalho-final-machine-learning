{
 "cells": [
  {
   "cell_type": "markdown",
   "metadata": {},
   "source": [
    "# Trabalho final de Machine Learning\n",
    "- Aluno: Antonio Eudálio de Sousa da Silva\n",
    "- Matricula: 380038"
   ]
  },
  {
   "cell_type": "markdown",
   "metadata": {},
   "source": [
    "# Descrição geral do Problema"
   ]
  },
  {
   "cell_type": "markdown",
   "metadata": {},
   "source": [
    "- Retirado do UCI - Machine Learning Repository\n",
    "- link de acesso: https://archive.ics.uci.edu/ml/datasets/KDD+Cup+1999+Data\n",
    "\n",
    "### Resumo:\n",
    "\n",
    "- Este é o conjunto de dados usado para a Terceira Competição Internacional de Ferramentas de Descoberta de Conhecimento e Ferramentas de Mineração de Dados, realizada em conjunto com a KDD-99 A Quinta Conferência Internacional sobre Descoberta de Conhecimento e Mineração de Dados. **A tarefa da competição era construir um detector de intrusão de rede, um modelo preditivo capaz de distinguir entre conexões \"ruins\", chamadas intrusões ou ataques, e conexões normais \"boas\". Este banco de dados contém um conjunto padrão de dados a serem auditados, que inclui uma ampla variedade de intrusões simuladas em um ambiente de rede militar.**\n",
    "\n",
    "### Datasets originais\n",
    "\n",
    "![datasets-kddcup99-mld](https://github.com/Eudalio/trabalho-final-machine-learning/blob/master/diretorio_datasets.png?raw=true \"Diretório dos datasets!\")\n",
    "\n",
    "+ O dataset utilizado dentre os listados foi o nomeado kddcup.data.gz. Porque na especificação apresentava-o como o dataset completo. Utilizei também o kddcup.data_10_percent.gz para experimentos.\n",
    "+ Não utilizei os outros porque em relação aos datasets dispostos era o que havia sido modificado por último, o que aparentou pra mim que fosse o melhor a ser utilizado pois estaria corrigido.\n",
    "\n",
    "#### Info Dataset\n",
    "- 18 MB comprimido\n",
    "- 743 MB de armazenamento físico\n",
    "- 42 colunas (Acompanha Label)\n",
    "- 4898431 linhas\n",
    "\n",
    "### Trabalhos Relacionados\n",
    "Com relação a trabalhos relacionados, no repositório do UCI ele lista um artigo relevante e um artigo que cita aquele dataset, apresentados a seguir:\n",
    "- Cost-based Modeling and Evaluation for Data Mining With Application to Fraud and Intrusion Detection: Results from the JAM Project.\n",
    "- The UCI KDD Archive of Large Data Sets for Data Mining Research and Experimentation.\n",
    "\n",
    "Nenhum dos dois citados a pouco foi útil.\n",
    "Utilizei o trabalho: **Offline/Realtime Traffic Classification Using Semi-Supervised Learning** disponível em http://citeseerx.ist.psu.edu/viewdoc/download;jsessionid=63E35A0E7B5FBCD540FE7D221C66CBAB?doi=10.1.1.106.6021&rep=rep1&type=pdf\n",
    "\n",
    "### Todas Features\n",
    "![tabela de features 1](https://github.com/Eudalio/trabalho-final-machine-learning/blob/master/feat1.png?raw=true \"Tabela com features 1!\")\n",
    "![tabela de features 2](https://github.com/Eudalio/trabalho-final-machine-learning/blob/master/feat2.png?raw=true \"Tabela com features 2!\")\n",
    "![tabela de features 3](https://github.com/Eudalio/trabalho-final-machine-learning/blob/master/feat3.png?raw=true \"Tabela com features 3!\")\n",
    "\n",
    "### Features mais significantes - Input\n",
    "- count\n",
    "- src_bytes\n",
    "- dst_bytes\n",
    "- hot\n",
    "- srv_count\n",
    "- service\n",
    "- dst_host_count\n",
    "- dst_host_srv_count\n",
    "- dst_host_same_src_port_rate\n",
    "- dst_host_srv_diff_host_rate\n",
    "\n",
    "### Labels\n",
    "- 0 -> Normal\n",
    "- 1 -> Qualquer outro\n",
    "\n",
    "### Métricas\n",
    "- Accurácia\n",
    "- F1-score\n",
    "- **Roc**\n",
    "- **Recall**\n",
    "\n",
    "Os dois últimos sendo as métricas mas importantes para a avaliação.\""
   ]
  },
  {
   "cell_type": "markdown",
   "metadata": {},
   "source": [
    "## import libs"
   ]
  },
  {
   "cell_type": "code",
   "execution_count": 1,
   "metadata": {},
   "outputs": [],
   "source": [
    "%matplotlib inline\n",
    "import warnings\n",
    "warnings.filterwarnings(\"ignore\")\n",
    "import pandas as pd\n",
    "import numpy as np\n",
    "import matplotlib.pyplot as plt\n",
    "import seaborn as sns\n",
    "\n",
    "from numpy import sort\n",
    "\n",
    "from sklearn.metrics import accuracy_score\n",
    "from sklearn.feature_selection import SelectFromModel\n",
    "from sklearn.preprocessing import StandardScaler\n",
    "from sklearn.tree import DecisionTreeClassifier\n",
    "from sklearn.ensemble import ExtraTreesClassifier, RandomForestClassifier\n",
    "from sklearn.metrics import accuracy_score, f1_score, roc_auc_score, recall_score\n",
    "from sklearn.model_selection import train_test_split, StratifiedKFold\n",
    "from sklearn import neighbors\n",
    "from sklearn.svm import SVC\n",
    "from sklearn import linear_model as lm\n",
    "from sklearn import naive_bayes\n",
    "\n",
    "from xgboost import XGBClassifier, plot_importance"
   ]
  },
  {
   "cell_type": "code",
   "execution_count": 2,
   "metadata": {},
   "outputs": [],
   "source": [
    "nomes_features = ['duration', 'protocol_type', 'service', 'flag', 'src_bytes', 'dst_bytes', 'land', \n",
    "                  'wrong_fragment', 'urgent', 'hot', 'num_failed_logins', 'logged_in', 'num_compromised',\n",
    "                  'root_shell', 'su_attempted', 'num_root', 'num_file_creations', 'num_shells', 'num_access_files',\n",
    "                  'num_outbound_cmds', 'is_host_login', 'is_guest_login', 'count', 'srv_count', 'serror_rate',\n",
    "                  'srv_serror_rate', 'rerror_rate', 'srv_rerror_rate', 'same_srv_rate', 'diff_srv_rate', \n",
    "                  'srv_diff_host_rate', 'dst_host_count', 'dst_host_srv_count', 'dst_host_same_srv_rate',\n",
    "                  'dst_host_diff_srv_rate', 'dst_host_same_src_port_rate', 'dst_host_srv_diff_host_rate',\n",
    "                  'dst_host_serror_rate', 'dst_host_srv_serror_rate', 'dst_host_rerror_rate',\n",
    "                  'dst_host_srv_rerror_rate', 'label']"
   ]
  },
  {
   "cell_type": "code",
   "execution_count": 3,
   "metadata": {},
   "outputs": [],
   "source": [
    "tipos_features = {'duration':int,\n",
    "                  'src_bytes': int,\n",
    "                  'dst_bytes': int, \n",
    "                  'land': int, \n",
    "                  'wrong_fragment': int, \n",
    "                  'urgent': int,\n",
    "                  'hot': int,\n",
    "                  'num_failed_logins': int,\n",
    "                  \n",
    "                  'logged_in': int,\n",
    "                  'num_compromised': int,\n",
    "                  'root_shell': int, \n",
    "                  'su_attempted': int,\n",
    "                  'num_root': int,\n",
    "                  'num_file_creations': int, \n",
    "                  'num_shells': int,\n",
    "                  'num_access_files': int,\n",
    "                  'num_outbound_cmds': int,\n",
    "                  'is_host_login': int, \n",
    "                  \n",
    "                  'is_guest_login': int,\n",
    "                  'count': int,\n",
    "                  'srv_count': int,\n",
    "                  'serror_rate': float,\n",
    "                  'srv_serror_rate': float,\n",
    "                  'rerror_rate': float,\n",
    "                  'srv_rerror_rate': float, \n",
    "                  'same_srv_rate': float,\n",
    "                  'diff_srv_rate': float, \n",
    "                  'srv_diff_host_rate': float, \n",
    "                  \n",
    "                  'dst_host_count': int, \n",
    "                  'dst_host_srv_count': int, \n",
    "                  'dst_host_same_srv_rate': float,\n",
    "                  'dst_host_diff_srv_rate': float, \n",
    "                  'dst_host_same_src_port_rate': float,\n",
    "                  'dst_host_srv_diff_host_rate': float,\n",
    "                  'dst_host_serror_rate': float,\n",
    "                  'dst_host_srv_serror_rate': float, \n",
    "                  'dst_host_rerror_rate': float, \n",
    "                  'dst_host_srv_rerror_rate': float,}"
   ]
  },
  {
   "cell_type": "markdown",
   "metadata": {},
   "source": [
    "### import dataset"
   ]
  },
  {
   "cell_type": "code",
   "execution_count": 4,
   "metadata": {},
   "outputs": [],
   "source": [
    "df_completo = pd.read_csv('kddcup.data_10_percent_corrected.csv', names=nomes_features, dtype=tipos_features, header=None)"
   ]
  },
  {
   "cell_type": "markdown",
   "metadata": {},
   "source": [
    "## understanding of the data"
   ]
  },
  {
   "cell_type": "code",
   "execution_count": 5,
   "metadata": {},
   "outputs": [
    {
     "data": {
      "text/html": [
       "<div>\n",
       "<style scoped>\n",
       "    .dataframe tbody tr th:only-of-type {\n",
       "        vertical-align: middle;\n",
       "    }\n",
       "\n",
       "    .dataframe tbody tr th {\n",
       "        vertical-align: top;\n",
       "    }\n",
       "\n",
       "    .dataframe thead th {\n",
       "        text-align: right;\n",
       "    }\n",
       "</style>\n",
       "<table border=\"1\" class=\"dataframe\">\n",
       "  <thead>\n",
       "    <tr style=\"text-align: right;\">\n",
       "      <th></th>\n",
       "      <th>duration</th>\n",
       "      <th>protocol_type</th>\n",
       "      <th>service</th>\n",
       "      <th>flag</th>\n",
       "      <th>src_bytes</th>\n",
       "      <th>dst_bytes</th>\n",
       "      <th>land</th>\n",
       "      <th>wrong_fragment</th>\n",
       "      <th>urgent</th>\n",
       "      <th>hot</th>\n",
       "      <th>...</th>\n",
       "      <th>dst_host_srv_count</th>\n",
       "      <th>dst_host_same_srv_rate</th>\n",
       "      <th>dst_host_diff_srv_rate</th>\n",
       "      <th>dst_host_same_src_port_rate</th>\n",
       "      <th>dst_host_srv_diff_host_rate</th>\n",
       "      <th>dst_host_serror_rate</th>\n",
       "      <th>dst_host_srv_serror_rate</th>\n",
       "      <th>dst_host_rerror_rate</th>\n",
       "      <th>dst_host_srv_rerror_rate</th>\n",
       "      <th>label</th>\n",
       "    </tr>\n",
       "  </thead>\n",
       "  <tbody>\n",
       "    <tr>\n",
       "      <th>0</th>\n",
       "      <td>0</td>\n",
       "      <td>tcp</td>\n",
       "      <td>http</td>\n",
       "      <td>SF</td>\n",
       "      <td>181</td>\n",
       "      <td>5450</td>\n",
       "      <td>0</td>\n",
       "      <td>0</td>\n",
       "      <td>0</td>\n",
       "      <td>0</td>\n",
       "      <td>...</td>\n",
       "      <td>9</td>\n",
       "      <td>1.0</td>\n",
       "      <td>0.0</td>\n",
       "      <td>0.11</td>\n",
       "      <td>0.00</td>\n",
       "      <td>0.0</td>\n",
       "      <td>0.0</td>\n",
       "      <td>0.0</td>\n",
       "      <td>0.0</td>\n",
       "      <td>normal.</td>\n",
       "    </tr>\n",
       "    <tr>\n",
       "      <th>1</th>\n",
       "      <td>0</td>\n",
       "      <td>tcp</td>\n",
       "      <td>http</td>\n",
       "      <td>SF</td>\n",
       "      <td>239</td>\n",
       "      <td>486</td>\n",
       "      <td>0</td>\n",
       "      <td>0</td>\n",
       "      <td>0</td>\n",
       "      <td>0</td>\n",
       "      <td>...</td>\n",
       "      <td>19</td>\n",
       "      <td>1.0</td>\n",
       "      <td>0.0</td>\n",
       "      <td>0.05</td>\n",
       "      <td>0.00</td>\n",
       "      <td>0.0</td>\n",
       "      <td>0.0</td>\n",
       "      <td>0.0</td>\n",
       "      <td>0.0</td>\n",
       "      <td>normal.</td>\n",
       "    </tr>\n",
       "    <tr>\n",
       "      <th>2</th>\n",
       "      <td>0</td>\n",
       "      <td>tcp</td>\n",
       "      <td>http</td>\n",
       "      <td>SF</td>\n",
       "      <td>235</td>\n",
       "      <td>1337</td>\n",
       "      <td>0</td>\n",
       "      <td>0</td>\n",
       "      <td>0</td>\n",
       "      <td>0</td>\n",
       "      <td>...</td>\n",
       "      <td>29</td>\n",
       "      <td>1.0</td>\n",
       "      <td>0.0</td>\n",
       "      <td>0.03</td>\n",
       "      <td>0.00</td>\n",
       "      <td>0.0</td>\n",
       "      <td>0.0</td>\n",
       "      <td>0.0</td>\n",
       "      <td>0.0</td>\n",
       "      <td>normal.</td>\n",
       "    </tr>\n",
       "    <tr>\n",
       "      <th>3</th>\n",
       "      <td>0</td>\n",
       "      <td>tcp</td>\n",
       "      <td>http</td>\n",
       "      <td>SF</td>\n",
       "      <td>219</td>\n",
       "      <td>1337</td>\n",
       "      <td>0</td>\n",
       "      <td>0</td>\n",
       "      <td>0</td>\n",
       "      <td>0</td>\n",
       "      <td>...</td>\n",
       "      <td>39</td>\n",
       "      <td>1.0</td>\n",
       "      <td>0.0</td>\n",
       "      <td>0.03</td>\n",
       "      <td>0.00</td>\n",
       "      <td>0.0</td>\n",
       "      <td>0.0</td>\n",
       "      <td>0.0</td>\n",
       "      <td>0.0</td>\n",
       "      <td>normal.</td>\n",
       "    </tr>\n",
       "    <tr>\n",
       "      <th>4</th>\n",
       "      <td>0</td>\n",
       "      <td>tcp</td>\n",
       "      <td>http</td>\n",
       "      <td>SF</td>\n",
       "      <td>217</td>\n",
       "      <td>2032</td>\n",
       "      <td>0</td>\n",
       "      <td>0</td>\n",
       "      <td>0</td>\n",
       "      <td>0</td>\n",
       "      <td>...</td>\n",
       "      <td>49</td>\n",
       "      <td>1.0</td>\n",
       "      <td>0.0</td>\n",
       "      <td>0.02</td>\n",
       "      <td>0.00</td>\n",
       "      <td>0.0</td>\n",
       "      <td>0.0</td>\n",
       "      <td>0.0</td>\n",
       "      <td>0.0</td>\n",
       "      <td>normal.</td>\n",
       "    </tr>\n",
       "    <tr>\n",
       "      <th>5</th>\n",
       "      <td>0</td>\n",
       "      <td>tcp</td>\n",
       "      <td>http</td>\n",
       "      <td>SF</td>\n",
       "      <td>217</td>\n",
       "      <td>2032</td>\n",
       "      <td>0</td>\n",
       "      <td>0</td>\n",
       "      <td>0</td>\n",
       "      <td>0</td>\n",
       "      <td>...</td>\n",
       "      <td>59</td>\n",
       "      <td>1.0</td>\n",
       "      <td>0.0</td>\n",
       "      <td>0.02</td>\n",
       "      <td>0.00</td>\n",
       "      <td>0.0</td>\n",
       "      <td>0.0</td>\n",
       "      <td>0.0</td>\n",
       "      <td>0.0</td>\n",
       "      <td>normal.</td>\n",
       "    </tr>\n",
       "    <tr>\n",
       "      <th>6</th>\n",
       "      <td>0</td>\n",
       "      <td>tcp</td>\n",
       "      <td>http</td>\n",
       "      <td>SF</td>\n",
       "      <td>212</td>\n",
       "      <td>1940</td>\n",
       "      <td>0</td>\n",
       "      <td>0</td>\n",
       "      <td>0</td>\n",
       "      <td>0</td>\n",
       "      <td>...</td>\n",
       "      <td>69</td>\n",
       "      <td>1.0</td>\n",
       "      <td>0.0</td>\n",
       "      <td>1.00</td>\n",
       "      <td>0.04</td>\n",
       "      <td>0.0</td>\n",
       "      <td>0.0</td>\n",
       "      <td>0.0</td>\n",
       "      <td>0.0</td>\n",
       "      <td>normal.</td>\n",
       "    </tr>\n",
       "    <tr>\n",
       "      <th>7</th>\n",
       "      <td>0</td>\n",
       "      <td>tcp</td>\n",
       "      <td>http</td>\n",
       "      <td>SF</td>\n",
       "      <td>159</td>\n",
       "      <td>4087</td>\n",
       "      <td>0</td>\n",
       "      <td>0</td>\n",
       "      <td>0</td>\n",
       "      <td>0</td>\n",
       "      <td>...</td>\n",
       "      <td>79</td>\n",
       "      <td>1.0</td>\n",
       "      <td>0.0</td>\n",
       "      <td>0.09</td>\n",
       "      <td>0.04</td>\n",
       "      <td>0.0</td>\n",
       "      <td>0.0</td>\n",
       "      <td>0.0</td>\n",
       "      <td>0.0</td>\n",
       "      <td>normal.</td>\n",
       "    </tr>\n",
       "    <tr>\n",
       "      <th>8</th>\n",
       "      <td>0</td>\n",
       "      <td>tcp</td>\n",
       "      <td>http</td>\n",
       "      <td>SF</td>\n",
       "      <td>210</td>\n",
       "      <td>151</td>\n",
       "      <td>0</td>\n",
       "      <td>0</td>\n",
       "      <td>0</td>\n",
       "      <td>0</td>\n",
       "      <td>...</td>\n",
       "      <td>89</td>\n",
       "      <td>1.0</td>\n",
       "      <td>0.0</td>\n",
       "      <td>0.12</td>\n",
       "      <td>0.04</td>\n",
       "      <td>0.0</td>\n",
       "      <td>0.0</td>\n",
       "      <td>0.0</td>\n",
       "      <td>0.0</td>\n",
       "      <td>normal.</td>\n",
       "    </tr>\n",
       "    <tr>\n",
       "      <th>9</th>\n",
       "      <td>0</td>\n",
       "      <td>tcp</td>\n",
       "      <td>http</td>\n",
       "      <td>SF</td>\n",
       "      <td>212</td>\n",
       "      <td>786</td>\n",
       "      <td>0</td>\n",
       "      <td>0</td>\n",
       "      <td>0</td>\n",
       "      <td>1</td>\n",
       "      <td>...</td>\n",
       "      <td>99</td>\n",
       "      <td>1.0</td>\n",
       "      <td>0.0</td>\n",
       "      <td>0.12</td>\n",
       "      <td>0.05</td>\n",
       "      <td>0.0</td>\n",
       "      <td>0.0</td>\n",
       "      <td>0.0</td>\n",
       "      <td>0.0</td>\n",
       "      <td>normal.</td>\n",
       "    </tr>\n",
       "    <tr>\n",
       "      <th>10</th>\n",
       "      <td>0</td>\n",
       "      <td>tcp</td>\n",
       "      <td>http</td>\n",
       "      <td>SF</td>\n",
       "      <td>210</td>\n",
       "      <td>624</td>\n",
       "      <td>0</td>\n",
       "      <td>0</td>\n",
       "      <td>0</td>\n",
       "      <td>0</td>\n",
       "      <td>...</td>\n",
       "      <td>109</td>\n",
       "      <td>1.0</td>\n",
       "      <td>0.0</td>\n",
       "      <td>0.06</td>\n",
       "      <td>0.05</td>\n",
       "      <td>0.0</td>\n",
       "      <td>0.0</td>\n",
       "      <td>0.0</td>\n",
       "      <td>0.0</td>\n",
       "      <td>normal.</td>\n",
       "    </tr>\n",
       "    <tr>\n",
       "      <th>11</th>\n",
       "      <td>0</td>\n",
       "      <td>tcp</td>\n",
       "      <td>http</td>\n",
       "      <td>SF</td>\n",
       "      <td>177</td>\n",
       "      <td>1985</td>\n",
       "      <td>0</td>\n",
       "      <td>0</td>\n",
       "      <td>0</td>\n",
       "      <td>0</td>\n",
       "      <td>...</td>\n",
       "      <td>119</td>\n",
       "      <td>1.0</td>\n",
       "      <td>0.0</td>\n",
       "      <td>0.04</td>\n",
       "      <td>0.04</td>\n",
       "      <td>0.0</td>\n",
       "      <td>0.0</td>\n",
       "      <td>0.0</td>\n",
       "      <td>0.0</td>\n",
       "      <td>normal.</td>\n",
       "    </tr>\n",
       "    <tr>\n",
       "      <th>12</th>\n",
       "      <td>0</td>\n",
       "      <td>tcp</td>\n",
       "      <td>http</td>\n",
       "      <td>SF</td>\n",
       "      <td>222</td>\n",
       "      <td>773</td>\n",
       "      <td>0</td>\n",
       "      <td>0</td>\n",
       "      <td>0</td>\n",
       "      <td>0</td>\n",
       "      <td>...</td>\n",
       "      <td>129</td>\n",
       "      <td>1.0</td>\n",
       "      <td>0.0</td>\n",
       "      <td>0.03</td>\n",
       "      <td>0.04</td>\n",
       "      <td>0.0</td>\n",
       "      <td>0.0</td>\n",
       "      <td>0.0</td>\n",
       "      <td>0.0</td>\n",
       "      <td>normal.</td>\n",
       "    </tr>\n",
       "    <tr>\n",
       "      <th>13</th>\n",
       "      <td>0</td>\n",
       "      <td>tcp</td>\n",
       "      <td>http</td>\n",
       "      <td>SF</td>\n",
       "      <td>256</td>\n",
       "      <td>1169</td>\n",
       "      <td>0</td>\n",
       "      <td>0</td>\n",
       "      <td>0</td>\n",
       "      <td>0</td>\n",
       "      <td>...</td>\n",
       "      <td>139</td>\n",
       "      <td>1.0</td>\n",
       "      <td>0.0</td>\n",
       "      <td>0.25</td>\n",
       "      <td>0.04</td>\n",
       "      <td>0.0</td>\n",
       "      <td>0.0</td>\n",
       "      <td>0.0</td>\n",
       "      <td>0.0</td>\n",
       "      <td>normal.</td>\n",
       "    </tr>\n",
       "    <tr>\n",
       "      <th>14</th>\n",
       "      <td>0</td>\n",
       "      <td>tcp</td>\n",
       "      <td>http</td>\n",
       "      <td>SF</td>\n",
       "      <td>241</td>\n",
       "      <td>259</td>\n",
       "      <td>0</td>\n",
       "      <td>0</td>\n",
       "      <td>0</td>\n",
       "      <td>0</td>\n",
       "      <td>...</td>\n",
       "      <td>149</td>\n",
       "      <td>1.0</td>\n",
       "      <td>0.0</td>\n",
       "      <td>0.07</td>\n",
       "      <td>0.04</td>\n",
       "      <td>0.0</td>\n",
       "      <td>0.0</td>\n",
       "      <td>0.0</td>\n",
       "      <td>0.0</td>\n",
       "      <td>normal.</td>\n",
       "    </tr>\n",
       "    <tr>\n",
       "      <th>15</th>\n",
       "      <td>0</td>\n",
       "      <td>tcp</td>\n",
       "      <td>http</td>\n",
       "      <td>SF</td>\n",
       "      <td>260</td>\n",
       "      <td>1837</td>\n",
       "      <td>0</td>\n",
       "      <td>0</td>\n",
       "      <td>0</td>\n",
       "      <td>0</td>\n",
       "      <td>...</td>\n",
       "      <td>159</td>\n",
       "      <td>1.0</td>\n",
       "      <td>0.0</td>\n",
       "      <td>0.04</td>\n",
       "      <td>0.04</td>\n",
       "      <td>0.0</td>\n",
       "      <td>0.0</td>\n",
       "      <td>0.0</td>\n",
       "      <td>0.0</td>\n",
       "      <td>normal.</td>\n",
       "    </tr>\n",
       "    <tr>\n",
       "      <th>16</th>\n",
       "      <td>0</td>\n",
       "      <td>tcp</td>\n",
       "      <td>http</td>\n",
       "      <td>SF</td>\n",
       "      <td>241</td>\n",
       "      <td>261</td>\n",
       "      <td>0</td>\n",
       "      <td>0</td>\n",
       "      <td>0</td>\n",
       "      <td>0</td>\n",
       "      <td>...</td>\n",
       "      <td>169</td>\n",
       "      <td>1.0</td>\n",
       "      <td>0.0</td>\n",
       "      <td>0.03</td>\n",
       "      <td>0.04</td>\n",
       "      <td>0.0</td>\n",
       "      <td>0.0</td>\n",
       "      <td>0.0</td>\n",
       "      <td>0.0</td>\n",
       "      <td>normal.</td>\n",
       "    </tr>\n",
       "    <tr>\n",
       "      <th>17</th>\n",
       "      <td>0</td>\n",
       "      <td>tcp</td>\n",
       "      <td>http</td>\n",
       "      <td>SF</td>\n",
       "      <td>257</td>\n",
       "      <td>818</td>\n",
       "      <td>0</td>\n",
       "      <td>0</td>\n",
       "      <td>0</td>\n",
       "      <td>0</td>\n",
       "      <td>...</td>\n",
       "      <td>179</td>\n",
       "      <td>1.0</td>\n",
       "      <td>0.0</td>\n",
       "      <td>0.02</td>\n",
       "      <td>0.03</td>\n",
       "      <td>0.0</td>\n",
       "      <td>0.0</td>\n",
       "      <td>0.0</td>\n",
       "      <td>0.0</td>\n",
       "      <td>normal.</td>\n",
       "    </tr>\n",
       "    <tr>\n",
       "      <th>18</th>\n",
       "      <td>0</td>\n",
       "      <td>tcp</td>\n",
       "      <td>http</td>\n",
       "      <td>SF</td>\n",
       "      <td>233</td>\n",
       "      <td>255</td>\n",
       "      <td>0</td>\n",
       "      <td>0</td>\n",
       "      <td>0</td>\n",
       "      <td>0</td>\n",
       "      <td>...</td>\n",
       "      <td>189</td>\n",
       "      <td>1.0</td>\n",
       "      <td>0.0</td>\n",
       "      <td>0.02</td>\n",
       "      <td>0.03</td>\n",
       "      <td>0.0</td>\n",
       "      <td>0.0</td>\n",
       "      <td>0.0</td>\n",
       "      <td>0.0</td>\n",
       "      <td>normal.</td>\n",
       "    </tr>\n",
       "    <tr>\n",
       "      <th>19</th>\n",
       "      <td>0</td>\n",
       "      <td>tcp</td>\n",
       "      <td>http</td>\n",
       "      <td>SF</td>\n",
       "      <td>233</td>\n",
       "      <td>504</td>\n",
       "      <td>0</td>\n",
       "      <td>0</td>\n",
       "      <td>0</td>\n",
       "      <td>0</td>\n",
       "      <td>...</td>\n",
       "      <td>199</td>\n",
       "      <td>1.0</td>\n",
       "      <td>0.0</td>\n",
       "      <td>0.02</td>\n",
       "      <td>0.03</td>\n",
       "      <td>0.0</td>\n",
       "      <td>0.0</td>\n",
       "      <td>0.0</td>\n",
       "      <td>0.0</td>\n",
       "      <td>normal.</td>\n",
       "    </tr>\n",
       "  </tbody>\n",
       "</table>\n",
       "<p>20 rows × 42 columns</p>\n",
       "</div>"
      ],
      "text/plain": [
       "    duration protocol_type service flag  src_bytes  dst_bytes  land  \\\n",
       "0          0           tcp    http   SF        181       5450     0   \n",
       "1          0           tcp    http   SF        239        486     0   \n",
       "2          0           tcp    http   SF        235       1337     0   \n",
       "3          0           tcp    http   SF        219       1337     0   \n",
       "4          0           tcp    http   SF        217       2032     0   \n",
       "5          0           tcp    http   SF        217       2032     0   \n",
       "6          0           tcp    http   SF        212       1940     0   \n",
       "7          0           tcp    http   SF        159       4087     0   \n",
       "8          0           tcp    http   SF        210        151     0   \n",
       "9          0           tcp    http   SF        212        786     0   \n",
       "10         0           tcp    http   SF        210        624     0   \n",
       "11         0           tcp    http   SF        177       1985     0   \n",
       "12         0           tcp    http   SF        222        773     0   \n",
       "13         0           tcp    http   SF        256       1169     0   \n",
       "14         0           tcp    http   SF        241        259     0   \n",
       "15         0           tcp    http   SF        260       1837     0   \n",
       "16         0           tcp    http   SF        241        261     0   \n",
       "17         0           tcp    http   SF        257        818     0   \n",
       "18         0           tcp    http   SF        233        255     0   \n",
       "19         0           tcp    http   SF        233        504     0   \n",
       "\n",
       "    wrong_fragment  urgent  hot   ...     dst_host_srv_count  \\\n",
       "0                0       0    0   ...                      9   \n",
       "1                0       0    0   ...                     19   \n",
       "2                0       0    0   ...                     29   \n",
       "3                0       0    0   ...                     39   \n",
       "4                0       0    0   ...                     49   \n",
       "5                0       0    0   ...                     59   \n",
       "6                0       0    0   ...                     69   \n",
       "7                0       0    0   ...                     79   \n",
       "8                0       0    0   ...                     89   \n",
       "9                0       0    1   ...                     99   \n",
       "10               0       0    0   ...                    109   \n",
       "11               0       0    0   ...                    119   \n",
       "12               0       0    0   ...                    129   \n",
       "13               0       0    0   ...                    139   \n",
       "14               0       0    0   ...                    149   \n",
       "15               0       0    0   ...                    159   \n",
       "16               0       0    0   ...                    169   \n",
       "17               0       0    0   ...                    179   \n",
       "18               0       0    0   ...                    189   \n",
       "19               0       0    0   ...                    199   \n",
       "\n",
       "    dst_host_same_srv_rate  dst_host_diff_srv_rate  \\\n",
       "0                      1.0                     0.0   \n",
       "1                      1.0                     0.0   \n",
       "2                      1.0                     0.0   \n",
       "3                      1.0                     0.0   \n",
       "4                      1.0                     0.0   \n",
       "5                      1.0                     0.0   \n",
       "6                      1.0                     0.0   \n",
       "7                      1.0                     0.0   \n",
       "8                      1.0                     0.0   \n",
       "9                      1.0                     0.0   \n",
       "10                     1.0                     0.0   \n",
       "11                     1.0                     0.0   \n",
       "12                     1.0                     0.0   \n",
       "13                     1.0                     0.0   \n",
       "14                     1.0                     0.0   \n",
       "15                     1.0                     0.0   \n",
       "16                     1.0                     0.0   \n",
       "17                     1.0                     0.0   \n",
       "18                     1.0                     0.0   \n",
       "19                     1.0                     0.0   \n",
       "\n",
       "    dst_host_same_src_port_rate  dst_host_srv_diff_host_rate  \\\n",
       "0                          0.11                         0.00   \n",
       "1                          0.05                         0.00   \n",
       "2                          0.03                         0.00   \n",
       "3                          0.03                         0.00   \n",
       "4                          0.02                         0.00   \n",
       "5                          0.02                         0.00   \n",
       "6                          1.00                         0.04   \n",
       "7                          0.09                         0.04   \n",
       "8                          0.12                         0.04   \n",
       "9                          0.12                         0.05   \n",
       "10                         0.06                         0.05   \n",
       "11                         0.04                         0.04   \n",
       "12                         0.03                         0.04   \n",
       "13                         0.25                         0.04   \n",
       "14                         0.07                         0.04   \n",
       "15                         0.04                         0.04   \n",
       "16                         0.03                         0.04   \n",
       "17                         0.02                         0.03   \n",
       "18                         0.02                         0.03   \n",
       "19                         0.02                         0.03   \n",
       "\n",
       "    dst_host_serror_rate  dst_host_srv_serror_rate  dst_host_rerror_rate  \\\n",
       "0                    0.0                       0.0                   0.0   \n",
       "1                    0.0                       0.0                   0.0   \n",
       "2                    0.0                       0.0                   0.0   \n",
       "3                    0.0                       0.0                   0.0   \n",
       "4                    0.0                       0.0                   0.0   \n",
       "5                    0.0                       0.0                   0.0   \n",
       "6                    0.0                       0.0                   0.0   \n",
       "7                    0.0                       0.0                   0.0   \n",
       "8                    0.0                       0.0                   0.0   \n",
       "9                    0.0                       0.0                   0.0   \n",
       "10                   0.0                       0.0                   0.0   \n",
       "11                   0.0                       0.0                   0.0   \n",
       "12                   0.0                       0.0                   0.0   \n",
       "13                   0.0                       0.0                   0.0   \n",
       "14                   0.0                       0.0                   0.0   \n",
       "15                   0.0                       0.0                   0.0   \n",
       "16                   0.0                       0.0                   0.0   \n",
       "17                   0.0                       0.0                   0.0   \n",
       "18                   0.0                       0.0                   0.0   \n",
       "19                   0.0                       0.0                   0.0   \n",
       "\n",
       "    dst_host_srv_rerror_rate    label  \n",
       "0                        0.0  normal.  \n",
       "1                        0.0  normal.  \n",
       "2                        0.0  normal.  \n",
       "3                        0.0  normal.  \n",
       "4                        0.0  normal.  \n",
       "5                        0.0  normal.  \n",
       "6                        0.0  normal.  \n",
       "7                        0.0  normal.  \n",
       "8                        0.0  normal.  \n",
       "9                        0.0  normal.  \n",
       "10                       0.0  normal.  \n",
       "11                       0.0  normal.  \n",
       "12                       0.0  normal.  \n",
       "13                       0.0  normal.  \n",
       "14                       0.0  normal.  \n",
       "15                       0.0  normal.  \n",
       "16                       0.0  normal.  \n",
       "17                       0.0  normal.  \n",
       "18                       0.0  normal.  \n",
       "19                       0.0  normal.  \n",
       "\n",
       "[20 rows x 42 columns]"
      ]
     },
     "execution_count": 5,
     "metadata": {},
     "output_type": "execute_result"
    }
   ],
   "source": [
    "df_completo.head(20)"
   ]
  },
  {
   "cell_type": "code",
   "execution_count": 6,
   "metadata": {},
   "outputs": [
    {
     "data": {
      "text/plain": [
       "(494021, 42)"
      ]
     },
     "execution_count": 6,
     "metadata": {},
     "output_type": "execute_result"
    }
   ],
   "source": [
    "df_completo.shape"
   ]
  },
  {
   "cell_type": "code",
   "execution_count": 7,
   "metadata": {
    "scrolled": true
   },
   "outputs": [
    {
     "name": "stdout",
     "output_type": "stream",
     "text": [
      "<class 'pandas.core.frame.DataFrame'>\n",
      "RangeIndex: 494021 entries, 0 to 494020\n",
      "Data columns (total 42 columns):\n",
      "duration                       494021 non-null int64\n",
      "protocol_type                  494021 non-null object\n",
      "service                        494021 non-null object\n",
      "flag                           494021 non-null object\n",
      "src_bytes                      494021 non-null int64\n",
      "dst_bytes                      494021 non-null int64\n",
      "land                           494021 non-null int64\n",
      "wrong_fragment                 494021 non-null int64\n",
      "urgent                         494021 non-null int64\n",
      "hot                            494021 non-null int64\n",
      "num_failed_logins              494021 non-null int64\n",
      "logged_in                      494021 non-null int64\n",
      "num_compromised                494021 non-null int64\n",
      "root_shell                     494021 non-null int64\n",
      "su_attempted                   494021 non-null int64\n",
      "num_root                       494021 non-null int64\n",
      "num_file_creations             494021 non-null int64\n",
      "num_shells                     494021 non-null int64\n",
      "num_access_files               494021 non-null int64\n",
      "num_outbound_cmds              494021 non-null int64\n",
      "is_host_login                  494021 non-null int64\n",
      "is_guest_login                 494021 non-null int64\n",
      "count                          494021 non-null int64\n",
      "srv_count                      494021 non-null int64\n",
      "serror_rate                    494021 non-null float64\n",
      "srv_serror_rate                494021 non-null float64\n",
      "rerror_rate                    494021 non-null float64\n",
      "srv_rerror_rate                494021 non-null float64\n",
      "same_srv_rate                  494021 non-null float64\n",
      "diff_srv_rate                  494021 non-null float64\n",
      "srv_diff_host_rate             494021 non-null float64\n",
      "dst_host_count                 494021 non-null int64\n",
      "dst_host_srv_count             494021 non-null int64\n",
      "dst_host_same_srv_rate         494021 non-null float64\n",
      "dst_host_diff_srv_rate         494021 non-null float64\n",
      "dst_host_same_src_port_rate    494021 non-null float64\n",
      "dst_host_srv_diff_host_rate    494021 non-null float64\n",
      "dst_host_serror_rate           494021 non-null float64\n",
      "dst_host_srv_serror_rate       494021 non-null float64\n",
      "dst_host_rerror_rate           494021 non-null float64\n",
      "dst_host_srv_rerror_rate       494021 non-null float64\n",
      "label                          494021 non-null object\n",
      "dtypes: float64(15), int64(23), object(4)\n",
      "memory usage: 158.3+ MB\n"
     ]
    }
   ],
   "source": [
    "df_completo.info()"
   ]
  },
  {
   "cell_type": "markdown",
   "metadata": {},
   "source": [
    "### pre processing"
   ]
  },
  {
   "cell_type": "markdown",
   "metadata": {},
   "source": [
    "#### Function that converts categorical data to numeric"
   ]
  },
  {
   "cell_type": "code",
   "execution_count": 8,
   "metadata": {},
   "outputs": [],
   "source": [
    "def cat2numeric_map(df):\n",
    "    map_replace = {}\n",
    "    for column in df:\n",
    "        if not np.issubdtype(df[column].dtype, np.number):\n",
    "            elements = np.unique(df[column])\n",
    "            map_replace[column] = { elements[i]: i for i in range(elements.size) }  \n",
    "    return map_replace"
   ]
  },
  {
   "cell_type": "code",
   "execution_count": 9,
   "metadata": {},
   "outputs": [
    {
     "data": {
      "text/plain": [
       "{'flag': {'OTH': 0,\n",
       "  'REJ': 1,\n",
       "  'RSTO': 2,\n",
       "  'RSTOS0': 3,\n",
       "  'RSTR': 4,\n",
       "  'S0': 5,\n",
       "  'S1': 6,\n",
       "  'S2': 7,\n",
       "  'S3': 8,\n",
       "  'SF': 9,\n",
       "  'SH': 10},\n",
       " 'label': {'back.': 0,\n",
       "  'buffer_overflow.': 1,\n",
       "  'ftp_write.': 2,\n",
       "  'guess_passwd.': 3,\n",
       "  'imap.': 4,\n",
       "  'ipsweep.': 5,\n",
       "  'land.': 6,\n",
       "  'loadmodule.': 7,\n",
       "  'multihop.': 8,\n",
       "  'neptune.': 9,\n",
       "  'nmap.': 10,\n",
       "  'normal.': 11,\n",
       "  'perl.': 12,\n",
       "  'phf.': 13,\n",
       "  'pod.': 14,\n",
       "  'portsweep.': 15,\n",
       "  'rootkit.': 16,\n",
       "  'satan.': 17,\n",
       "  'smurf.': 18,\n",
       "  'spy.': 19,\n",
       "  'teardrop.': 20,\n",
       "  'warezclient.': 21,\n",
       "  'warezmaster.': 22},\n",
       " 'protocol_type': {'icmp': 0, 'tcp': 1, 'udp': 2},\n",
       " 'service': {'IRC': 0,\n",
       "  'X11': 1,\n",
       "  'Z39_50': 2,\n",
       "  'auth': 3,\n",
       "  'bgp': 4,\n",
       "  'courier': 5,\n",
       "  'csnet_ns': 6,\n",
       "  'ctf': 7,\n",
       "  'daytime': 8,\n",
       "  'discard': 9,\n",
       "  'domain': 10,\n",
       "  'domain_u': 11,\n",
       "  'echo': 12,\n",
       "  'eco_i': 13,\n",
       "  'ecr_i': 14,\n",
       "  'efs': 15,\n",
       "  'exec': 16,\n",
       "  'finger': 17,\n",
       "  'ftp': 18,\n",
       "  'ftp_data': 19,\n",
       "  'gopher': 20,\n",
       "  'hostnames': 21,\n",
       "  'http': 22,\n",
       "  'http_443': 23,\n",
       "  'imap4': 24,\n",
       "  'iso_tsap': 25,\n",
       "  'klogin': 26,\n",
       "  'kshell': 27,\n",
       "  'ldap': 28,\n",
       "  'link': 29,\n",
       "  'login': 30,\n",
       "  'mtp': 31,\n",
       "  'name': 32,\n",
       "  'netbios_dgm': 33,\n",
       "  'netbios_ns': 34,\n",
       "  'netbios_ssn': 35,\n",
       "  'netstat': 36,\n",
       "  'nnsp': 37,\n",
       "  'nntp': 38,\n",
       "  'ntp_u': 39,\n",
       "  'other': 40,\n",
       "  'pm_dump': 41,\n",
       "  'pop_2': 42,\n",
       "  'pop_3': 43,\n",
       "  'printer': 44,\n",
       "  'private': 45,\n",
       "  'red_i': 46,\n",
       "  'remote_job': 47,\n",
       "  'rje': 48,\n",
       "  'shell': 49,\n",
       "  'smtp': 50,\n",
       "  'sql_net': 51,\n",
       "  'ssh': 52,\n",
       "  'sunrpc': 53,\n",
       "  'supdup': 54,\n",
       "  'systat': 55,\n",
       "  'telnet': 56,\n",
       "  'tftp_u': 57,\n",
       "  'tim_i': 58,\n",
       "  'time': 59,\n",
       "  'urh_i': 60,\n",
       "  'urp_i': 61,\n",
       "  'uucp': 62,\n",
       "  'uucp_path': 63,\n",
       "  'vmnet': 64,\n",
       "  'whois': 65}}"
      ]
     },
     "execution_count": 9,
     "metadata": {},
     "output_type": "execute_result"
    }
   ],
   "source": [
    "map_replace = cat2numeric_map(df_completo)\n",
    "map_replace"
   ]
  },
  {
   "cell_type": "code",
   "execution_count": 5,
   "metadata": {},
   "outputs": [],
   "source": [
    "map_replace = {\n",
    "    \n",
    "    'flag': {'OTH': 0, 'REJ': 1, 'RSTO': 2, 'RSTOS0': 3, 'RSTR': 4, 'S0': 5, 'S1': 6, 'S2': 7, 'S3': 8, 'SF': 9, 'SH': 10},\n",
    "    \n",
    "    'protocol_type': {'tcp': 0, 'udp': 1, 'icmp': 3},\n",
    "    \n",
    "    'label': {'normal.': 0, 'back.': 1, 'buffer_overflow.': 1, 'ftp_write.': 1, 'guess_passwd.': 1, 'imap.': 1, 'ipsweep.': 1, 'land.': 1,\n",
    "              'loadmodule.': 1, 'multihop.': 1, 'neptune.': 1, 'nmap.': 1, 'perl.': 1, 'phf.': 1, 'pod.': 1, 'portsweep.': 1, 'rootkit.': 1, 'satan.': 1,\n",
    "              'smurf.': 1, 'spy.': 1, 'teardrop.': 1, 'warezclient.': 1, 'warezmaster.': 1},\n",
    "    \n",
    "    'service': {'IRC': 0, 'X11': 1, 'Z39_50': 2, 'aol': 3, 'auth': 4, 'bgp': 5, 'courier': 6, 'csnet_ns': 7, 'ctf': 8, 'daytime': 9, 'discard': 10,\n",
    "                'domain': 11, 'domain_u': 12, 'echo': 13, 'eco_i': 14, 'ecr_i': 15, 'efs': 16, 'exec': 17, 'finger': 18, 'ftp': 19, 'ftp_data': 20,\n",
    "                'gopher': 21, 'harvest': 22, 'hostnames': 23, 'http': 24, 'http_2784': 25, 'http_443': 26, 'http_8001': 27, 'imap4': 28, 'iso_tsap': 29,\n",
    "                'klogin': 30, 'kshell': 31, 'ldap': 32, 'link': 33, 'login': 34, 'mtp': 35, 'name': 36, 'netbios_dgm': 37, 'netbios_ns': 38,\n",
    "                'netbios_ssn': 39, 'netstat': 40, 'nnsp': 41, 'nntp': 42, 'ntp_u': 43, 'other': 44, 'pm_dump': 45, 'pop_2': 46, 'pop_3': 47,\n",
    "                'printer': 48, 'private': 49, 'red_i': 50, 'remote_job': 51, 'rje': 52, 'shell': 53, 'smtp': 54, 'sql_net': 55, 'ssh': 56, 'sunrpc': 57,\n",
    "                'supdup': 58, 'systat': 59, 'telnet': 60, 'tftp_u': 61, 'tim_i': 62, 'time': 63, 'urh_i': 64, 'urp_i': 65, 'uucp': 66, 'uucp_path': 67,\n",
    "                'vmnet': 68, 'whois': 69}\n",
    "}"
   ]
  },
  {
   "cell_type": "markdown",
   "metadata": {},
   "source": [
    "#### Dataset refactoring"
   ]
  },
  {
   "cell_type": "code",
   "execution_count": 6,
   "metadata": {},
   "outputs": [],
   "source": [
    "df_completo_conv = df_completo.replace(map_replace)"
   ]
  },
  {
   "cell_type": "code",
   "execution_count": 7,
   "metadata": {},
   "outputs": [],
   "source": [
    "del df_completo"
   ]
  },
  {
   "cell_type": "code",
   "execution_count": 12,
   "metadata": {},
   "outputs": [
    {
     "data": {
      "text/html": [
       "<div>\n",
       "<style scoped>\n",
       "    .dataframe tbody tr th:only-of-type {\n",
       "        vertical-align: middle;\n",
       "    }\n",
       "\n",
       "    .dataframe tbody tr th {\n",
       "        vertical-align: top;\n",
       "    }\n",
       "\n",
       "    .dataframe thead th {\n",
       "        text-align: right;\n",
       "    }\n",
       "</style>\n",
       "<table border=\"1\" class=\"dataframe\">\n",
       "  <thead>\n",
       "    <tr style=\"text-align: right;\">\n",
       "      <th></th>\n",
       "      <th>duration</th>\n",
       "      <th>protocol_type</th>\n",
       "      <th>service</th>\n",
       "      <th>flag</th>\n",
       "      <th>src_bytes</th>\n",
       "      <th>dst_bytes</th>\n",
       "      <th>land</th>\n",
       "      <th>wrong_fragment</th>\n",
       "      <th>urgent</th>\n",
       "      <th>hot</th>\n",
       "      <th>...</th>\n",
       "      <th>dst_host_srv_count</th>\n",
       "      <th>dst_host_same_srv_rate</th>\n",
       "      <th>dst_host_diff_srv_rate</th>\n",
       "      <th>dst_host_same_src_port_rate</th>\n",
       "      <th>dst_host_srv_diff_host_rate</th>\n",
       "      <th>dst_host_serror_rate</th>\n",
       "      <th>dst_host_srv_serror_rate</th>\n",
       "      <th>dst_host_rerror_rate</th>\n",
       "      <th>dst_host_srv_rerror_rate</th>\n",
       "      <th>label</th>\n",
       "    </tr>\n",
       "  </thead>\n",
       "  <tbody>\n",
       "    <tr>\n",
       "      <th>0</th>\n",
       "      <td>0</td>\n",
       "      <td>0</td>\n",
       "      <td>24</td>\n",
       "      <td>9</td>\n",
       "      <td>181</td>\n",
       "      <td>5450</td>\n",
       "      <td>0</td>\n",
       "      <td>0</td>\n",
       "      <td>0</td>\n",
       "      <td>0</td>\n",
       "      <td>...</td>\n",
       "      <td>9</td>\n",
       "      <td>1.0</td>\n",
       "      <td>0.0</td>\n",
       "      <td>0.11</td>\n",
       "      <td>0.00</td>\n",
       "      <td>0.0</td>\n",
       "      <td>0.0</td>\n",
       "      <td>0.0</td>\n",
       "      <td>0.0</td>\n",
       "      <td>0</td>\n",
       "    </tr>\n",
       "    <tr>\n",
       "      <th>1</th>\n",
       "      <td>0</td>\n",
       "      <td>0</td>\n",
       "      <td>24</td>\n",
       "      <td>9</td>\n",
       "      <td>239</td>\n",
       "      <td>486</td>\n",
       "      <td>0</td>\n",
       "      <td>0</td>\n",
       "      <td>0</td>\n",
       "      <td>0</td>\n",
       "      <td>...</td>\n",
       "      <td>19</td>\n",
       "      <td>1.0</td>\n",
       "      <td>0.0</td>\n",
       "      <td>0.05</td>\n",
       "      <td>0.00</td>\n",
       "      <td>0.0</td>\n",
       "      <td>0.0</td>\n",
       "      <td>0.0</td>\n",
       "      <td>0.0</td>\n",
       "      <td>0</td>\n",
       "    </tr>\n",
       "    <tr>\n",
       "      <th>2</th>\n",
       "      <td>0</td>\n",
       "      <td>0</td>\n",
       "      <td>24</td>\n",
       "      <td>9</td>\n",
       "      <td>235</td>\n",
       "      <td>1337</td>\n",
       "      <td>0</td>\n",
       "      <td>0</td>\n",
       "      <td>0</td>\n",
       "      <td>0</td>\n",
       "      <td>...</td>\n",
       "      <td>29</td>\n",
       "      <td>1.0</td>\n",
       "      <td>0.0</td>\n",
       "      <td>0.03</td>\n",
       "      <td>0.00</td>\n",
       "      <td>0.0</td>\n",
       "      <td>0.0</td>\n",
       "      <td>0.0</td>\n",
       "      <td>0.0</td>\n",
       "      <td>0</td>\n",
       "    </tr>\n",
       "    <tr>\n",
       "      <th>3</th>\n",
       "      <td>0</td>\n",
       "      <td>0</td>\n",
       "      <td>24</td>\n",
       "      <td>9</td>\n",
       "      <td>219</td>\n",
       "      <td>1337</td>\n",
       "      <td>0</td>\n",
       "      <td>0</td>\n",
       "      <td>0</td>\n",
       "      <td>0</td>\n",
       "      <td>...</td>\n",
       "      <td>39</td>\n",
       "      <td>1.0</td>\n",
       "      <td>0.0</td>\n",
       "      <td>0.03</td>\n",
       "      <td>0.00</td>\n",
       "      <td>0.0</td>\n",
       "      <td>0.0</td>\n",
       "      <td>0.0</td>\n",
       "      <td>0.0</td>\n",
       "      <td>0</td>\n",
       "    </tr>\n",
       "    <tr>\n",
       "      <th>4</th>\n",
       "      <td>0</td>\n",
       "      <td>0</td>\n",
       "      <td>24</td>\n",
       "      <td>9</td>\n",
       "      <td>217</td>\n",
       "      <td>2032</td>\n",
       "      <td>0</td>\n",
       "      <td>0</td>\n",
       "      <td>0</td>\n",
       "      <td>0</td>\n",
       "      <td>...</td>\n",
       "      <td>49</td>\n",
       "      <td>1.0</td>\n",
       "      <td>0.0</td>\n",
       "      <td>0.02</td>\n",
       "      <td>0.00</td>\n",
       "      <td>0.0</td>\n",
       "      <td>0.0</td>\n",
       "      <td>0.0</td>\n",
       "      <td>0.0</td>\n",
       "      <td>0</td>\n",
       "    </tr>\n",
       "    <tr>\n",
       "      <th>5</th>\n",
       "      <td>0</td>\n",
       "      <td>0</td>\n",
       "      <td>24</td>\n",
       "      <td>9</td>\n",
       "      <td>217</td>\n",
       "      <td>2032</td>\n",
       "      <td>0</td>\n",
       "      <td>0</td>\n",
       "      <td>0</td>\n",
       "      <td>0</td>\n",
       "      <td>...</td>\n",
       "      <td>59</td>\n",
       "      <td>1.0</td>\n",
       "      <td>0.0</td>\n",
       "      <td>0.02</td>\n",
       "      <td>0.00</td>\n",
       "      <td>0.0</td>\n",
       "      <td>0.0</td>\n",
       "      <td>0.0</td>\n",
       "      <td>0.0</td>\n",
       "      <td>0</td>\n",
       "    </tr>\n",
       "    <tr>\n",
       "      <th>6</th>\n",
       "      <td>0</td>\n",
       "      <td>0</td>\n",
       "      <td>24</td>\n",
       "      <td>9</td>\n",
       "      <td>212</td>\n",
       "      <td>1940</td>\n",
       "      <td>0</td>\n",
       "      <td>0</td>\n",
       "      <td>0</td>\n",
       "      <td>0</td>\n",
       "      <td>...</td>\n",
       "      <td>69</td>\n",
       "      <td>1.0</td>\n",
       "      <td>0.0</td>\n",
       "      <td>1.00</td>\n",
       "      <td>0.04</td>\n",
       "      <td>0.0</td>\n",
       "      <td>0.0</td>\n",
       "      <td>0.0</td>\n",
       "      <td>0.0</td>\n",
       "      <td>0</td>\n",
       "    </tr>\n",
       "    <tr>\n",
       "      <th>7</th>\n",
       "      <td>0</td>\n",
       "      <td>0</td>\n",
       "      <td>24</td>\n",
       "      <td>9</td>\n",
       "      <td>159</td>\n",
       "      <td>4087</td>\n",
       "      <td>0</td>\n",
       "      <td>0</td>\n",
       "      <td>0</td>\n",
       "      <td>0</td>\n",
       "      <td>...</td>\n",
       "      <td>79</td>\n",
       "      <td>1.0</td>\n",
       "      <td>0.0</td>\n",
       "      <td>0.09</td>\n",
       "      <td>0.04</td>\n",
       "      <td>0.0</td>\n",
       "      <td>0.0</td>\n",
       "      <td>0.0</td>\n",
       "      <td>0.0</td>\n",
       "      <td>0</td>\n",
       "    </tr>\n",
       "    <tr>\n",
       "      <th>8</th>\n",
       "      <td>0</td>\n",
       "      <td>0</td>\n",
       "      <td>24</td>\n",
       "      <td>9</td>\n",
       "      <td>210</td>\n",
       "      <td>151</td>\n",
       "      <td>0</td>\n",
       "      <td>0</td>\n",
       "      <td>0</td>\n",
       "      <td>0</td>\n",
       "      <td>...</td>\n",
       "      <td>89</td>\n",
       "      <td>1.0</td>\n",
       "      <td>0.0</td>\n",
       "      <td>0.12</td>\n",
       "      <td>0.04</td>\n",
       "      <td>0.0</td>\n",
       "      <td>0.0</td>\n",
       "      <td>0.0</td>\n",
       "      <td>0.0</td>\n",
       "      <td>0</td>\n",
       "    </tr>\n",
       "    <tr>\n",
       "      <th>9</th>\n",
       "      <td>0</td>\n",
       "      <td>0</td>\n",
       "      <td>24</td>\n",
       "      <td>9</td>\n",
       "      <td>212</td>\n",
       "      <td>786</td>\n",
       "      <td>0</td>\n",
       "      <td>0</td>\n",
       "      <td>0</td>\n",
       "      <td>1</td>\n",
       "      <td>...</td>\n",
       "      <td>99</td>\n",
       "      <td>1.0</td>\n",
       "      <td>0.0</td>\n",
       "      <td>0.12</td>\n",
       "      <td>0.05</td>\n",
       "      <td>0.0</td>\n",
       "      <td>0.0</td>\n",
       "      <td>0.0</td>\n",
       "      <td>0.0</td>\n",
       "      <td>0</td>\n",
       "    </tr>\n",
       "  </tbody>\n",
       "</table>\n",
       "<p>10 rows × 42 columns</p>\n",
       "</div>"
      ],
      "text/plain": [
       "   duration  protocol_type  service  flag  src_bytes  dst_bytes  land  \\\n",
       "0         0              0       24     9        181       5450     0   \n",
       "1         0              0       24     9        239        486     0   \n",
       "2         0              0       24     9        235       1337     0   \n",
       "3         0              0       24     9        219       1337     0   \n",
       "4         0              0       24     9        217       2032     0   \n",
       "5         0              0       24     9        217       2032     0   \n",
       "6         0              0       24     9        212       1940     0   \n",
       "7         0              0       24     9        159       4087     0   \n",
       "8         0              0       24     9        210        151     0   \n",
       "9         0              0       24     9        212        786     0   \n",
       "\n",
       "   wrong_fragment  urgent  hot  ...    dst_host_srv_count  \\\n",
       "0               0       0    0  ...                     9   \n",
       "1               0       0    0  ...                    19   \n",
       "2               0       0    0  ...                    29   \n",
       "3               0       0    0  ...                    39   \n",
       "4               0       0    0  ...                    49   \n",
       "5               0       0    0  ...                    59   \n",
       "6               0       0    0  ...                    69   \n",
       "7               0       0    0  ...                    79   \n",
       "8               0       0    0  ...                    89   \n",
       "9               0       0    1  ...                    99   \n",
       "\n",
       "   dst_host_same_srv_rate  dst_host_diff_srv_rate  \\\n",
       "0                     1.0                     0.0   \n",
       "1                     1.0                     0.0   \n",
       "2                     1.0                     0.0   \n",
       "3                     1.0                     0.0   \n",
       "4                     1.0                     0.0   \n",
       "5                     1.0                     0.0   \n",
       "6                     1.0                     0.0   \n",
       "7                     1.0                     0.0   \n",
       "8                     1.0                     0.0   \n",
       "9                     1.0                     0.0   \n",
       "\n",
       "   dst_host_same_src_port_rate  dst_host_srv_diff_host_rate  \\\n",
       "0                         0.11                         0.00   \n",
       "1                         0.05                         0.00   \n",
       "2                         0.03                         0.00   \n",
       "3                         0.03                         0.00   \n",
       "4                         0.02                         0.00   \n",
       "5                         0.02                         0.00   \n",
       "6                         1.00                         0.04   \n",
       "7                         0.09                         0.04   \n",
       "8                         0.12                         0.04   \n",
       "9                         0.12                         0.05   \n",
       "\n",
       "   dst_host_serror_rate  dst_host_srv_serror_rate  dst_host_rerror_rate  \\\n",
       "0                   0.0                       0.0                   0.0   \n",
       "1                   0.0                       0.0                   0.0   \n",
       "2                   0.0                       0.0                   0.0   \n",
       "3                   0.0                       0.0                   0.0   \n",
       "4                   0.0                       0.0                   0.0   \n",
       "5                   0.0                       0.0                   0.0   \n",
       "6                   0.0                       0.0                   0.0   \n",
       "7                   0.0                       0.0                   0.0   \n",
       "8                   0.0                       0.0                   0.0   \n",
       "9                   0.0                       0.0                   0.0   \n",
       "\n",
       "   dst_host_srv_rerror_rate  label  \n",
       "0                       0.0      0  \n",
       "1                       0.0      0  \n",
       "2                       0.0      0  \n",
       "3                       0.0      0  \n",
       "4                       0.0      0  \n",
       "5                       0.0      0  \n",
       "6                       0.0      0  \n",
       "7                       0.0      0  \n",
       "8                       0.0      0  \n",
       "9                       0.0      0  \n",
       "\n",
       "[10 rows x 42 columns]"
      ]
     },
     "execution_count": 12,
     "metadata": {},
     "output_type": "execute_result"
    }
   ],
   "source": [
    "df_completo_conv.head(10)"
   ]
  },
  {
   "cell_type": "code",
   "execution_count": 13,
   "metadata": {
    "scrolled": false
   },
   "outputs": [
    {
     "name": "stdout",
     "output_type": "stream",
     "text": [
      "<class 'pandas.core.frame.DataFrame'>\n",
      "RangeIndex: 494021 entries, 0 to 494020\n",
      "Data columns (total 42 columns):\n",
      "duration                       494021 non-null int64\n",
      "protocol_type                  494021 non-null int64\n",
      "service                        494021 non-null int64\n",
      "flag                           494021 non-null int64\n",
      "src_bytes                      494021 non-null int64\n",
      "dst_bytes                      494021 non-null int64\n",
      "land                           494021 non-null int64\n",
      "wrong_fragment                 494021 non-null int64\n",
      "urgent                         494021 non-null int64\n",
      "hot                            494021 non-null int64\n",
      "num_failed_logins              494021 non-null int64\n",
      "logged_in                      494021 non-null int64\n",
      "num_compromised                494021 non-null int64\n",
      "root_shell                     494021 non-null int64\n",
      "su_attempted                   494021 non-null int64\n",
      "num_root                       494021 non-null int64\n",
      "num_file_creations             494021 non-null int64\n",
      "num_shells                     494021 non-null int64\n",
      "num_access_files               494021 non-null int64\n",
      "num_outbound_cmds              494021 non-null int64\n",
      "is_host_login                  494021 non-null int64\n",
      "is_guest_login                 494021 non-null int64\n",
      "count                          494021 non-null int64\n",
      "srv_count                      494021 non-null int64\n",
      "serror_rate                    494021 non-null float64\n",
      "srv_serror_rate                494021 non-null float64\n",
      "rerror_rate                    494021 non-null float64\n",
      "srv_rerror_rate                494021 non-null float64\n",
      "same_srv_rate                  494021 non-null float64\n",
      "diff_srv_rate                  494021 non-null float64\n",
      "srv_diff_host_rate             494021 non-null float64\n",
      "dst_host_count                 494021 non-null int64\n",
      "dst_host_srv_count             494021 non-null int64\n",
      "dst_host_same_srv_rate         494021 non-null float64\n",
      "dst_host_diff_srv_rate         494021 non-null float64\n",
      "dst_host_same_src_port_rate    494021 non-null float64\n",
      "dst_host_srv_diff_host_rate    494021 non-null float64\n",
      "dst_host_serror_rate           494021 non-null float64\n",
      "dst_host_srv_serror_rate       494021 non-null float64\n",
      "dst_host_rerror_rate           494021 non-null float64\n",
      "dst_host_srv_rerror_rate       494021 non-null float64\n",
      "label                          494021 non-null int64\n",
      "dtypes: float64(15), int64(27)\n",
      "memory usage: 158.3 MB\n"
     ]
    }
   ],
   "source": [
    "df_completo_conv.info()"
   ]
  },
  {
   "cell_type": "markdown",
   "metadata": {},
   "source": [
    "#### Distribuição das labels"
   ]
  },
  {
   "cell_type": "code",
   "execution_count": 15,
   "metadata": {},
   "outputs": [
    {
     "data": {
      "text/plain": [
       "Text(0,0.5,'Frequencia')"
      ]
     },
     "execution_count": 15,
     "metadata": {},
     "output_type": "execute_result"
    },
    {
     "data": {
      "image/png": "[encoded data removed]",
      "text/plain": [
       "<matplotlib.figure.Figure at 0x7f72d8e88278>"
      ]
     },
     "metadata": {},
     "output_type": "display_data"
    }
   ],
   "source": [
    "count_classes = pd.value_counts(df_completo_conv['label'], sort = True).sort_index()\n",
    "count_classes.plot(kind = 'bar')\n",
    "plt.title(\"Historgrama das classes - labels\")\n",
    "plt.xlabel(\"Classes\")\n",
    "plt.ylabel(\"Frequencia\")"
   ]
  },
  {
   "cell_type": "markdown",
   "metadata": {},
   "source": [
    "### Correlation"
   ]
  },
  {
   "cell_type": "code",
   "execution_count": 16,
   "metadata": {},
   "outputs": [
    {
     "data": {
      "text/plain": [
       "array([[<matplotlib.axes._subplots.AxesSubplot object at 0x7f72d8e506a0>]],\n",
       "      dtype=object)"
      ]
     },
     "execution_count": 16,
     "metadata": {},
     "output_type": "execute_result"
    },
    {
     "data": {
      "image/png": "[encoded data removed]",
      "text/plain": [
       "<matplotlib.figure.Figure at 0x7f72d8e089e8>"
      ]
     },
     "metadata": {},
     "output_type": "display_data"
    }
   ],
   "source": [
    "corr = df_completo_conv.corr()\n",
    "corr[['label']].hist(figsize=(8,5))"
   ]
  },
  {
   "cell_type": "code",
   "execution_count": 17,
   "metadata": {},
   "outputs": [
    {
     "data": {
      "text/plain": [
       "<matplotlib.axes._subplots.AxesSubplot at 0x7f72d8d74710>"
      ]
     },
     "execution_count": 17,
     "metadata": {},
     "output_type": "execute_result"
    },
    {
     "data": {
      "image/png": "[encoded data removed]",
      "text/plain": [
       "<matplotlib.figure.Figure at 0x7f72d8e23978>"
      ]
     },
     "metadata": {},
     "output_type": "display_data"
    }
   ],
   "source": [
    "plt.figure(figsize=(10,15))\n",
    "sns.heatmap(corr[['label']], cmap='coolwarm', annot=True)"
   ]
  },
  {
   "cell_type": "markdown",
   "metadata": {},
   "source": [
    "### Standardizing dataset "
   ]
  },
  {
   "cell_type": "code",
   "execution_count": 18,
   "metadata": {},
   "outputs": [],
   "source": [
    "# Train/Test Split\n",
    "X, y = df_completo_conv.iloc[:, :41].values, df_completo_conv.iloc[:,41:].values\n",
    "\n",
    "X_train, X_test, y_train, y_test = train_test_split(X, y, test_size=0.3, random_state=0, stratify=y)"
   ]
  },
  {
   "cell_type": "code",
   "execution_count": 19,
   "metadata": {},
   "outputs": [],
   "source": [
    "std = StandardScaler()\n",
    "X_train_std = std.fit_transform(X_train)\n",
    "X_test_std = std.transform(X_test)"
   ]
  },
  {
   "cell_type": "markdown",
   "metadata": {},
   "source": [
    "### Feature importance"
   ]
  },
  {
   "cell_type": "markdown",
   "metadata": {},
   "source": [
    "#### Decision Tree"
   ]
  },
  {
   "cell_type": "code",
   "execution_count": 20,
   "metadata": {},
   "outputs": [
    {
     "data": {
      "text/plain": [
       "DecisionTreeClassifier(class_weight=None, criterion='gini', max_depth=None,\n",
       "            max_features=None, max_leaf_nodes=None,\n",
       "            min_impurity_decrease=0.0, min_impurity_split=None,\n",
       "            min_samples_leaf=1, min_samples_split=2,\n",
       "            min_weight_fraction_leaf=0.0, presort=False, random_state=None,\n",
       "            splitter='best')"
      ]
     },
     "execution_count": 20,
     "metadata": {},
     "output_type": "execute_result"
    }
   ],
   "source": [
    "dtree = DecisionTreeClassifier()\n",
    "dtree.fit(X_train_std, y_train)"
   ]
  },
  {
   "cell_type": "code",
   "execution_count": 21,
   "metadata": {},
   "outputs": [
    {
     "data": {
      "image/png": "[encoded data removed]",
      "text/plain": [
       "<matplotlib.figure.Figure at 0x7f72d8d89278>"
      ]
     },
     "metadata": {},
     "output_type": "display_data"
    }
   ],
   "source": [
    "plt.bar(range(len(dtree.feature_importances_)), dtree.feature_importances_)\n",
    "plt.show()"
   ]
  },
  {
   "cell_type": "markdown",
   "metadata": {},
   "source": [
    "#### Random Forest"
   ]
  },
  {
   "cell_type": "code",
   "execution_count": 22,
   "metadata": {},
   "outputs": [
    {
     "data": {
      "text/plain": [
       "RandomForestClassifier(bootstrap=True, class_weight=None, criterion='gini',\n",
       "            max_depth=None, max_features='auto', max_leaf_nodes=None,\n",
       "            min_impurity_decrease=0.0, min_impurity_split=None,\n",
       "            min_samples_leaf=1, min_samples_split=2,\n",
       "            min_weight_fraction_leaf=0.0, n_estimators=10, n_jobs=1,\n",
       "            oob_score=False, random_state=None, verbose=0,\n",
       "            warm_start=False)"
      ]
     },
     "execution_count": 22,
     "metadata": {},
     "output_type": "execute_result"
    }
   ],
   "source": [
    "randomf = RandomForestClassifier()\n",
    "randomf.fit(X_train_std, y_train)"
   ]
  },
  {
   "cell_type": "code",
   "execution_count": 23,
   "metadata": {},
   "outputs": [
    {
     "data": {
      "image/png": "[encoded data removed]",
      "text/plain": [
       "<matplotlib.figure.Figure at 0x7f72d88f9128>"
      ]
     },
     "metadata": {},
     "output_type": "display_data"
    }
   ],
   "source": [
    "plt.bar(range(len(randomf.feature_importances_)), randomf.feature_importances_)\n",
    "plt.show()"
   ]
  },
  {
   "cell_type": "markdown",
   "metadata": {},
   "source": [
    "#### X Gradient Boost"
   ]
  },
  {
   "cell_type": "code",
   "execution_count": 24,
   "metadata": {},
   "outputs": [
    {
     "data": {
      "text/plain": [
       "XGBClassifier(base_score=0.5, booster='gbtree', colsample_bylevel=1,\n",
       "       colsample_bytree=1, gamma=0, learning_rate=0.1, max_delta_step=0,\n",
       "       max_depth=3, min_child_weight=1, missing=None, n_estimators=100,\n",
       "       n_jobs=1, nthread=None, objective='binary:logistic', random_state=0,\n",
       "       reg_alpha=0, reg_lambda=1, scale_pos_weight=1, seed=None,\n",
       "       silent=True, subsample=1)"
      ]
     },
     "execution_count": 24,
     "metadata": {},
     "output_type": "execute_result"
    }
   ],
   "source": [
    "modeloXGB = XGBClassifier()\n",
    "modeloXGB.fit(X_train_std, y_train)"
   ]
  },
  {
   "cell_type": "code",
   "execution_count": 25,
   "metadata": {
    "scrolled": true
   },
   "outputs": [
    {
     "data": {
      "image/png": "[encoded data removed]",
      "text/plain": [
       "<matplotlib.figure.Figure at 0x7f72d87eaf98>"
      ]
     },
     "metadata": {},
     "output_type": "display_data"
    }
   ],
   "source": [
    "plot_importance(modeloXGB, height=0.4)\n",
    "plt.show()"
   ]
  },
  {
   "cell_type": "markdown",
   "metadata": {},
   "source": [
    "## Modeling"
   ]
  },
  {
   "cell_type": "markdown",
   "metadata": {},
   "source": [
    "##### Todas as colunas do dataset original standardizado"
   ]
  },
  {
   "cell_type": "code",
   "execution_count": 8,
   "metadata": {},
   "outputs": [],
   "source": [
    "drop_collums = np.array(df_completo_conv.columns)"
   ]
  },
  {
   "cell_type": "markdown",
   "metadata": {},
   "source": [
    "##### Criado array com todos as colunas que não utilizarei mais"
   ]
  },
  {
   "cell_type": "code",
   "execution_count": 9,
   "metadata": {},
   "outputs": [],
   "source": [
    "new_drop_collums = np.delete(drop_collums, [2, 4, 5, 9, 22, 23, 31, 32, 35, 36, 41])"
   ]
  },
  {
   "cell_type": "markdown",
   "metadata": {},
   "source": [
    "##### Criado um novo data frame que contém apenas as features mais significantes"
   ]
  },
  {
   "cell_type": "code",
   "execution_count": 10,
   "metadata": {
    "scrolled": true
   },
   "outputs": [
    {
     "data": {
      "text/html": [
       "<div>\n",
       "<style scoped>\n",
       "    .dataframe tbody tr th:only-of-type {\n",
       "        vertical-align: middle;\n",
       "    }\n",
       "\n",
       "    .dataframe tbody tr th {\n",
       "        vertical-align: top;\n",
       "    }\n",
       "\n",
       "    .dataframe thead th {\n",
       "        text-align: right;\n",
       "    }\n",
       "</style>\n",
       "<table border=\"1\" class=\"dataframe\">\n",
       "  <thead>\n",
       "    <tr style=\"text-align: right;\">\n",
       "      <th></th>\n",
       "      <th>service</th>\n",
       "      <th>src_bytes</th>\n",
       "      <th>dst_bytes</th>\n",
       "      <th>hot</th>\n",
       "      <th>count</th>\n",
       "      <th>srv_count</th>\n",
       "      <th>dst_host_count</th>\n",
       "      <th>dst_host_srv_count</th>\n",
       "      <th>dst_host_same_src_port_rate</th>\n",
       "      <th>dst_host_srv_diff_host_rate</th>\n",
       "      <th>label</th>\n",
       "    </tr>\n",
       "  </thead>\n",
       "  <tbody>\n",
       "    <tr>\n",
       "      <th>0</th>\n",
       "      <td>24</td>\n",
       "      <td>181</td>\n",
       "      <td>5450</td>\n",
       "      <td>0</td>\n",
       "      <td>8</td>\n",
       "      <td>8</td>\n",
       "      <td>9</td>\n",
       "      <td>9</td>\n",
       "      <td>0.11</td>\n",
       "      <td>0.0</td>\n",
       "      <td>0</td>\n",
       "    </tr>\n",
       "    <tr>\n",
       "      <th>1</th>\n",
       "      <td>24</td>\n",
       "      <td>239</td>\n",
       "      <td>486</td>\n",
       "      <td>0</td>\n",
       "      <td>8</td>\n",
       "      <td>8</td>\n",
       "      <td>19</td>\n",
       "      <td>19</td>\n",
       "      <td>0.05</td>\n",
       "      <td>0.0</td>\n",
       "      <td>0</td>\n",
       "    </tr>\n",
       "    <tr>\n",
       "      <th>2</th>\n",
       "      <td>24</td>\n",
       "      <td>235</td>\n",
       "      <td>1337</td>\n",
       "      <td>0</td>\n",
       "      <td>8</td>\n",
       "      <td>8</td>\n",
       "      <td>29</td>\n",
       "      <td>29</td>\n",
       "      <td>0.03</td>\n",
       "      <td>0.0</td>\n",
       "      <td>0</td>\n",
       "    </tr>\n",
       "    <tr>\n",
       "      <th>3</th>\n",
       "      <td>24</td>\n",
       "      <td>219</td>\n",
       "      <td>1337</td>\n",
       "      <td>0</td>\n",
       "      <td>6</td>\n",
       "      <td>6</td>\n",
       "      <td>39</td>\n",
       "      <td>39</td>\n",
       "      <td>0.03</td>\n",
       "      <td>0.0</td>\n",
       "      <td>0</td>\n",
       "    </tr>\n",
       "    <tr>\n",
       "      <th>4</th>\n",
       "      <td>24</td>\n",
       "      <td>217</td>\n",
       "      <td>2032</td>\n",
       "      <td>0</td>\n",
       "      <td>6</td>\n",
       "      <td>6</td>\n",
       "      <td>49</td>\n",
       "      <td>49</td>\n",
       "      <td>0.02</td>\n",
       "      <td>0.0</td>\n",
       "      <td>0</td>\n",
       "    </tr>\n",
       "  </tbody>\n",
       "</table>\n",
       "</div>"
      ],
      "text/plain": [
       "   service  src_bytes  dst_bytes  hot  count  srv_count  dst_host_count  \\\n",
       "0       24        181       5450    0      8          8               9   \n",
       "1       24        239        486    0      8          8              19   \n",
       "2       24        235       1337    0      8          8              29   \n",
       "3       24        219       1337    0      6          6              39   \n",
       "4       24        217       2032    0      6          6              49   \n",
       "\n",
       "   dst_host_srv_count  dst_host_same_src_port_rate  \\\n",
       "0                   9                         0.11   \n",
       "1                  19                         0.05   \n",
       "2                  29                         0.03   \n",
       "3                  39                         0.03   \n",
       "4                  49                         0.02   \n",
       "\n",
       "   dst_host_srv_diff_host_rate  label  \n",
       "0                          0.0      0  \n",
       "1                          0.0      0  \n",
       "2                          0.0      0  \n",
       "3                          0.0      0  \n",
       "4                          0.0      0  "
      ]
     },
     "execution_count": 10,
     "metadata": {},
     "output_type": "execute_result"
    }
   ],
   "source": [
    "df_reduz = pd.DataFrame(data=df_completo_conv)\n",
    "df_reduz = df_reduz.drop(columns=new_drop_collums)\n",
    "df_reduz.head()"
   ]
  },
  {
   "cell_type": "code",
   "execution_count": 11,
   "metadata": {},
   "outputs": [],
   "source": [
    "del df_completo_conv"
   ]
  },
  {
   "cell_type": "code",
   "execution_count": 12,
   "metadata": {},
   "outputs": [],
   "source": [
    "# Train/Test Split\n",
    "X_, y_ = df_reduz.iloc[:, :10].values, df_reduz.iloc[:,10:].values\n",
    "\n",
    "X_train_, X_test_, y_train_, y_test_ = train_test_split(X_, y_, test_size=0.3, shuffle=True, random_state=42, stratify=y_)"
   ]
  },
  {
   "cell_type": "code",
   "execution_count": 13,
   "metadata": {},
   "outputs": [],
   "source": [
    "std_ = StandardScaler()\n",
    "X_train_std_ = std_.fit_transform(X_train_)\n",
    "X_test_std_ = std_.transform(X_test_)"
   ]
  },
  {
   "cell_type": "markdown",
   "metadata": {},
   "source": [
    "#### Model - X Gradient Boost"
   ]
  },
  {
   "cell_type": "code",
   "execution_count": 12,
   "metadata": {},
   "outputs": [
    {
     "name": "stderr",
     "output_type": "stream",
     "text": [
      "/home/eudalio/anaconda3/lib/python3.6/site-packages/sklearn/preprocessing/label.py:151: DeprecationWarning: The truth value of an empty array is ambiguous. Returning False, but in future this will result in an error. Use `array.size > 0` to check that an array is not empty.\n",
      "  if diff:\n"
     ]
    },
    {
     "name": "stdout",
     "output_type": "stream",
     "text": [
      "Accuracy: 99.91%\n",
      "thresholds: [0.01743265 0.03486529 0.04912837 0.04912837 0.05229794 0.11093502\n",
      " 0.14580032 0.15055467 0.16481775 0.22503962]\n",
      "thresh: 0.017432647\n"
     ]
    },
    {
     "name": "stderr",
     "output_type": "stream",
     "text": [
      "/home/eudalio/anaconda3/lib/python3.6/site-packages/sklearn/preprocessing/label.py:151: DeprecationWarning: The truth value of an empty array is ambiguous. Returning False, but in future this will result in an error. Use `array.size > 0` to check that an array is not empty.\n",
      "  if diff:\n"
     ]
    },
    {
     "name": "stdout",
     "output_type": "stream",
     "text": [
      "Thresh=0.017, n=10, Accuracy: 99.91%\n",
      "thresh: 0.034865294\n"
     ]
    },
    {
     "name": "stderr",
     "output_type": "stream",
     "text": [
      "/home/eudalio/anaconda3/lib/python3.6/site-packages/sklearn/preprocessing/label.py:151: DeprecationWarning: The truth value of an empty array is ambiguous. Returning False, but in future this will result in an error. Use `array.size > 0` to check that an array is not empty.\n",
      "  if diff:\n"
     ]
    },
    {
     "name": "stdout",
     "output_type": "stream",
     "text": [
      "Thresh=0.035, n=9, Accuracy: 99.92%\n",
      "thresh: 0.04912837\n"
     ]
    },
    {
     "name": "stderr",
     "output_type": "stream",
     "text": [
      "/home/eudalio/anaconda3/lib/python3.6/site-packages/sklearn/preprocessing/label.py:151: DeprecationWarning: The truth value of an empty array is ambiguous. Returning False, but in future this will result in an error. Use `array.size > 0` to check that an array is not empty.\n",
      "  if diff:\n"
     ]
    },
    {
     "name": "stdout",
     "output_type": "stream",
     "text": [
      "Thresh=0.049, n=8, Accuracy: 99.90%\n",
      "thresh: 0.04912837\n"
     ]
    },
    {
     "name": "stderr",
     "output_type": "stream",
     "text": [
      "/home/eudalio/anaconda3/lib/python3.6/site-packages/sklearn/preprocessing/label.py:151: DeprecationWarning: The truth value of an empty array is ambiguous. Returning False, but in future this will result in an error. Use `array.size > 0` to check that an array is not empty.\n",
      "  if diff:\n"
     ]
    },
    {
     "name": "stdout",
     "output_type": "stream",
     "text": [
      "Thresh=0.049, n=8, Accuracy: 99.90%\n",
      "thresh: 0.05229794\n"
     ]
    },
    {
     "name": "stderr",
     "output_type": "stream",
     "text": [
      "/home/eudalio/anaconda3/lib/python3.6/site-packages/sklearn/preprocessing/label.py:151: DeprecationWarning: The truth value of an empty array is ambiguous. Returning False, but in future this will result in an error. Use `array.size > 0` to check that an array is not empty.\n",
      "  if diff:\n"
     ]
    },
    {
     "name": "stdout",
     "output_type": "stream",
     "text": [
      "Thresh=0.052, n=6, Accuracy: 99.89%\n",
      "thresh: 0.110935025\n"
     ]
    },
    {
     "name": "stderr",
     "output_type": "stream",
     "text": [
      "/home/eudalio/anaconda3/lib/python3.6/site-packages/sklearn/preprocessing/label.py:151: DeprecationWarning: The truth value of an empty array is ambiguous. Returning False, but in future this will result in an error. Use `array.size > 0` to check that an array is not empty.\n",
      "  if diff:\n"
     ]
    },
    {
     "name": "stdout",
     "output_type": "stream",
     "text": [
      "Thresh=0.111, n=5, Accuracy: 99.89%\n",
      "thresh: 0.14580032\n"
     ]
    },
    {
     "name": "stderr",
     "output_type": "stream",
     "text": [
      "/home/eudalio/anaconda3/lib/python3.6/site-packages/sklearn/preprocessing/label.py:151: DeprecationWarning: The truth value of an empty array is ambiguous. Returning False, but in future this will result in an error. Use `array.size > 0` to check that an array is not empty.\n",
      "  if diff:\n"
     ]
    },
    {
     "name": "stdout",
     "output_type": "stream",
     "text": [
      "Thresh=0.146, n=4, Accuracy: 99.89%\n",
      "thresh: 0.15055467\n"
     ]
    },
    {
     "name": "stderr",
     "output_type": "stream",
     "text": [
      "/home/eudalio/anaconda3/lib/python3.6/site-packages/sklearn/preprocessing/label.py:151: DeprecationWarning: The truth value of an empty array is ambiguous. Returning False, but in future this will result in an error. Use `array.size > 0` to check that an array is not empty.\n",
      "  if diff:\n"
     ]
    },
    {
     "name": "stdout",
     "output_type": "stream",
     "text": [
      "Thresh=0.151, n=3, Accuracy: 99.66%\n",
      "thresh: 0.16481775\n"
     ]
    },
    {
     "name": "stderr",
     "output_type": "stream",
     "text": [
      "/home/eudalio/anaconda3/lib/python3.6/site-packages/sklearn/preprocessing/label.py:151: DeprecationWarning: The truth value of an empty array is ambiguous. Returning False, but in future this will result in an error. Use `array.size > 0` to check that an array is not empty.\n",
      "  if diff:\n"
     ]
    },
    {
     "name": "stdout",
     "output_type": "stream",
     "text": [
      "Thresh=0.165, n=2, Accuracy: 98.83%\n",
      "thresh: 0.22503962\n"
     ]
    },
    {
     "name": "stderr",
     "output_type": "stream",
     "text": [
      "/home/eudalio/anaconda3/lib/python3.6/site-packages/sklearn/preprocessing/label.py:151: DeprecationWarning: The truth value of an empty array is ambiguous. Returning False, but in future this will result in an error. Use `array.size > 0` to check that an array is not empty.\n",
      "  if diff:\n"
     ]
    },
    {
     "name": "stdout",
     "output_type": "stream",
     "text": [
      "Thresh=0.225, n=1, Accuracy: 98.64%\n"
     ]
    }
   ],
   "source": [
    "# fit model on all training data\n",
    "modelXGB = XGBClassifier()\n",
    "modelXGB.fit(X_train_std_, y_train_)\n",
    "# make predictions for test data and evaluate\n",
    "y_pred = modelXGB.predict(X_test_std_)\n",
    "predictions = [round(value) for value in y_pred]\n",
    "accuracy = accuracy_score(y_test_, predictions)\n",
    "print(\"Accuracy: %.2f%%\" % (accuracy * 100.0))\n",
    "# Fit model using each importance as a threshold\n",
    "thresholds = sort(modelXGB.feature_importances_)\n",
    "print('thresholds: ' + str(thresholds))\n",
    "for thresh in thresholds:\n",
    "    # select features using threshold\n",
    "    print('thresh: ' + str(thresh))\n",
    "    selection = SelectFromModel(modelXGB, threshold=thresh, prefit=True)\n",
    "    select_X_train = selection.transform(X_train_std_)\n",
    "    # train model\n",
    "    selection_model = XGBClassifier()\n",
    "    selection_model.fit(select_X_train, y_train_)\n",
    "    # eval model\n",
    "    select_X_test = selection.transform(X_test_std_)\n",
    "    y_pred = selection_model.predict(select_X_test)\n",
    "    predictions = [round(value) for value in y_pred]\n",
    "    accuracy = accuracy_score(y_test_, predictions)\n",
    "    print(\"Thresh=%.3f, n=%d, Accuracy: %.2f%%\" % (thresh, select_X_train.shape[1], accuracy*100.0))"
   ]
  },
  {
   "cell_type": "markdown",
   "metadata": {},
   "source": [
    "- Se com 6 features ou menos eu consigo uma acurácia de 99.89%, significa que posso tranquilamente excluir as outras features porque pelo que aparenta não apresentam relevância suficiente para mantê-las."
   ]
  },
  {
   "cell_type": "markdown",
   "metadata": {},
   "source": [
    "#### Function to automate models"
   ]
  },
  {
   "cell_type": "code",
   "execution_count": 14,
   "metadata": {},
   "outputs": [],
   "source": [
    "nSplits = 5\n",
    "kfold = StratifiedKFold(n_splits=nSplits)\n",
    "def classifier(model, X, y):\n",
    "    acc = 0.0\n",
    "    f1 = 0.0\n",
    "    roc = 0.0\n",
    "    recall = 0.0\n",
    "    for train_index, test_index in kfold.split(X, y):\n",
    "        X_train, y_train = X[train_index], y[train_index]\n",
    "        X_test, y_test = X[test_index], y[test_index]\n",
    "        \n",
    "        model.fit(X_train, y_train)\n",
    "        ŷ = model.predict(X_test)\n",
    "        \n",
    "        acc += accuracy_score(y_test, ŷ)\n",
    "        f1 += f1_score(y_test, ŷ)\n",
    "        recall += recall_score(y_test, ŷ)\n",
    "        roc += roc_auc_score(y_test, ŷ)\n",
    "        \n",
    "    print(\"Acc: {}\".format(acc/nSplits))\n",
    "    print(\"F1-score: {}\".format(f1/nSplits))\n",
    "    print(\"Recall: {}\".format(recall/nSplits))\n",
    "    print(\"Roc: {}\".format(roc/nSplits))\n",
    "    return [recall/nSplits, roc/nSplits]"
   ]
  },
  {
   "cell_type": "markdown",
   "metadata": {},
   "source": [
    "##### Model Random Forest"
   ]
  },
  {
   "cell_type": "code",
   "execution_count": 15,
   "metadata": {},
   "outputs": [
    {
     "name": "stdout",
     "output_type": "stream",
     "text": [
      "Acc: 0.9996819100120696\n",
      "F1-score: 0.9998019364387941\n",
      "Recall: 0.9996975370877144\n",
      "Roc: 0.9996578544719151\n"
     ]
    },
    {
     "data": {
      "text/plain": [
       "[0.9996975370877144, 0.9996578544719151]"
      ]
     },
     "execution_count": 15,
     "metadata": {},
     "output_type": "execute_result"
    }
   ],
   "source": [
    "rf = RandomForestClassifier()\n",
    "mrf = classifier(rf, X_train_std_, y_train_)\n",
    "mrf"
   ]
  },
  {
   "cell_type": "markdown",
   "metadata": {},
   "source": [
    "#### Model - KNN"
   ]
  },
  {
   "cell_type": "code",
   "execution_count": null,
   "metadata": {},
   "outputs": [],
   "source": [
    "knn = neighbors.KNeighborsClassifier()\n",
    "mknn = classifier(knn, X_train_std_, y_train_)\n",
    "mknn"
   ]
  },
  {
   "cell_type": "markdown",
   "metadata": {},
   "source": [
    "#### Model - Naive Bayes"
   ]
  },
  {
   "cell_type": "code",
   "execution_count": 16,
   "metadata": {},
   "outputs": [
    {
     "name": "stdout",
     "output_type": "stream",
     "text": [
      "Acc: 0.9771235427911442\n",
      "F1-score: 0.9856018215992288\n",
      "Recall: 0.9749711940083537\n",
      "Roc: 0.9804365204800156\n"
     ]
    },
    {
     "data": {
      "text/plain": [
       "[0.9749711940083537, 0.9804365204800156]"
      ]
     },
     "execution_count": 16,
     "metadata": {},
     "output_type": "execute_result"
    }
   ],
   "source": [
    "nb = naive_bayes.GaussianNB()\n",
    "mnb = classifier(nb, X_train_std_, y_train_)\n",
    "mnb"
   ]
  },
  {
   "cell_type": "markdown",
   "metadata": {},
   "source": [
    "#### Model - Logistic Regression - L1"
   ]
  },
  {
   "cell_type": "code",
   "execution_count": 38,
   "metadata": {},
   "outputs": [
    {
     "name": "stdout",
     "output_type": "stream",
     "text": [
      "Acc: 0.976310988033062\n",
      "F1-score: 0.9852952608940232\n",
      "Recall: 0.9874477891401412\n",
      "Roc: 0.959169155504427\n"
     ]
    },
    {
     "data": {
      "text/plain": [
       "[0.9874477891401412, 0.959169155504427]"
      ]
     },
     "execution_count": 38,
     "metadata": {},
     "output_type": "execute_result"
    }
   ],
   "source": [
    "lr = lm.LogisticRegression(penalty='l1')\n",
    "mlr_l1 = classifier(lr, X_train_std_, y_train_)\n",
    "mlr_l1"
   ]
  },
  {
   "cell_type": "markdown",
   "metadata": {},
   "source": [
    "#### Model - Logistic Regression - L2"
   ]
  },
  {
   "cell_type": "code",
   "execution_count": 37,
   "metadata": {},
   "outputs": [
    {
     "name": "stdout",
     "output_type": "stream",
     "text": [
      "Acc: 0.9838815092585055\n",
      "F1-score: 0.9898924438220102\n",
      "Recall: 0.9828280282298719\n",
      "Roc: 0.9855030777218415\n"
     ]
    },
    {
     "data": {
      "text/plain": [
       "[0.9828280282298719, 0.9855030777218415]"
      ]
     },
     "execution_count": 37,
     "metadata": {},
     "output_type": "execute_result"
    }
   ],
   "source": [
    "lr = lm.LogisticRegression(penalty='l2')\n",
    "mlr_l2 = classifiallrocs.append(mlr[1])er(lr, X_train_std_, y_train_)\n",
    "mlr_l2"
   ]
  },
  {
   "cell_type": "code",
   "execution_count": 39,
   "metadata": {},
   "outputs": [
    {
     "name": "stdout",
     "output_type": "stream",
     "text": [
      "All the class names: ['RF', 'NB', 'LR1', 'LR2']\n",
      "All recalls: [0.9996975370877144, 0.9749711940083537, 0.9828280282298719]\n",
      "All rocs scores: [0.9996578544719151, 0.9804365204800156, 0.959169155504427, 0.9855030777218415]\n"
     ]
    }
   ],
   "source": [
    "# Juntando todos os nomes do metodos\n",
    "class_names = []\n",
    "class_names.append('RF')\n",
    "class_names.append('NB')\n",
    "class_names.append('LR1')\n",
    "class_names.append('LR2')\n",
    "print(\"All the class names: {}\".format(class_names))\n",
    "#Juntando todos os recalls\n",
    "allrecalls = []\n",
    "allrecalls.append(mrf[0])\n",
    "allrecalls.append(mnb[0])\n",
    "allrecalls.append(mlr_l1[0])\n",
    "allrecalls.append(mlr_l2[0])\n",
    "print(\"All recalls: {}\".format(allfscores))\n",
    "\n",
    "#Juntando todos os roc scores\n",
    "allrocs = []\n",
    "allrocs.append(mrf[1])\n",
    "allrocs.append(mnb[1])\n",
    "allrocs.append(mlr_l1[1])\n",
    "allrocs.append(mlr_l2[1])\n",
    "print(\"All rocs scores: {}\".format(allrocs))"
   ]
  },
  {
   "cell_type": "markdown",
   "metadata": {},
   "source": [
    "#### Plotando a comparação utilizando o recall"
   ]
  },
  {
   "cell_type": "code",
   "execution_count": 40,
   "metadata": {},
   "outputs": [
    {
     "data": {
      "image/png": "[encoded data removed]",
      "text/plain": [
       "<matplotlib.figure.Figure at 0x7f583b095400>"
      ]
     },
     "metadata": {},
     "output_type": "display_data"
    }
   ],
   "source": [
    "plt.figure(figsize=(12,8))\n",
    "plt.grid()\n",
    "plt.title('Comparação dos algoritmos utilizando o recall')\n",
    "plt.bar(range(len(class_names)), allrecalls)\n",
    "plt.xticks(range(len(class_names)), class_names);"
   ]
  },
  {
   "cell_type": "markdown",
   "metadata": {},
   "source": [
    "#### Plotando a comparação utilizando o roc score"
   ]
  },
  {
   "cell_type": "code",
   "execution_count": 41,
   "metadata": {},
   "outputs": [
    {
     "data": {
      "image/png": "[encoded data removed]",
      "text/plain": [
       "<matplotlib.figure.Figure at 0x7f583b3b9cf8>"
      ]
     },
     "metadata": {},
     "output_type": "display_data"
    }
   ],
   "source": [
    "plt.figure(figsize=(12,8))\n",
    "plt.grid()\n",
    "plt.title('Comparação dos algoritmos utilizando o roc score')\n",
    "plt.bar(range(len(class_names)), allrocs)\n",
    "plt.xticks(range(len(class_names)), class_names);"
   ]
  },
  {
   "cell_type": "markdown",
   "metadata": {},
   "source": [
    "# Conclusões\n",
    "\n",
    "### Aprendizados\n",
    "- Estudar desde o começo, e começar a fazer o trabalho o quanto antes;\n",
    "- A estrutura de como seria um trabalho de um Analista de Dados;\n",
    "- xgboost é top;\n",
    "- Várias técnicas de análise de dados;\n",
    "- Respirar fundo (3x) para não quebrar o notebook.\n",
    "\n",
    "### Dificuldades\n",
    "- Trabalhar com Datasets muito grandes;\n",
    "- Recursos disponíveis (Máquina para realização do trabalho, quantidade de memória, qualidade do processador)\n",
    "- \n",
    "\n",
    "### Melhorias futuras\n",
    "- Conseguir usar o dataset todo.\n",
    "- Aplicar mais técnicas para ter material para comparação.\n",
    "- De repente poderia usar mais métricas."
   ]
  },
  {
   "cell_type": "code",
   "execution_count": null,
   "metadata": {},
   "outputs": [],
   "source": []
  }
 ],
 "metadata": {
  "kernelspec": {
   "display_name": "Python 3",
   "language": "python",
   "name": "python3"
  },
  "language_info": {
   "codemirror_mode": {
    "name": "ipython",
    "version": 3
   },
   "file_extension": ".py",
   "mimetype": "text/x-python",
   "name": "python",
   "nbconvert_exporter": "python",
   "pygments_lexer": "ipython3",
   "version": "3.6.4"
  }
 },
 "nbformat": 4,
 "nbformat_minor": 2
}
